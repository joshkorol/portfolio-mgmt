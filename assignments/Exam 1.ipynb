{
 "cells": [
  {
   "cell_type": "markdown",
   "id": "a97c4251",
   "metadata": {},
   "source": [
    "# Exam 1\n",
    "\n",
    "## Portfolio Management\n",
    "\n",
    "### MLP Training\n",
    "\n",
    "#### January 2025\n",
    "\n",
    "Questions?\n",
    "\n",
    "- Contact: Mark Hendricks\n",
    "- hendricks@uchicago.edu\n"
   ]
  },
  {
   "cell_type": "markdown",
   "id": "cbb624b4",
   "metadata": {},
   "source": [
    "---\n"
   ]
  },
  {
   "cell_type": "markdown",
   "id": "5a5f8f1b",
   "metadata": {},
   "source": [
    "## Data\n"
   ]
  },
  {
   "cell_type": "markdown",
   "id": "88e17896",
   "metadata": {},
   "source": [
    "All the analysis below applies to the data set,\n",
    "\n",
    "- `data/exam_1_data.xlsx`\n",
    "- The file has **weekly** returns for the largest 10 stocks and SPY\n",
    "- For annualization, use 52 periods per year.\n"
   ]
  },
  {
   "cell_type": "markdown",
   "id": "98f8af63",
   "metadata": {},
   "source": [
    "---\n"
   ]
  },
  {
   "cell_type": "markdown",
   "id": "d1614003",
   "metadata": {},
   "source": [
    "# 1. Risk Statistics and Decomposition\n"
   ]
  },
  {
   "cell_type": "markdown",
   "id": "463982b4",
   "metadata": {},
   "source": [
    "### 1.1.\n"
   ]
  },
  {
   "cell_type": "markdown",
   "id": "92ac5247",
   "metadata": {},
   "source": [
    "Display a table with the following metrics for each of the return series.\n",
    "\n",
    "- mean (annualized)\n",
    "- volatility (annualized)\n",
    "- Sharpe ratio (annualized)\n",
    "- skewness\n",
    "- kurtosis\n",
    "- maximum drawdown\n",
    "\n",
    "#### Note\n",
    "\n",
    "We have total returns, and Sharpe ratio is technically defined for excess returns. Don't worry about the difference.\n",
    "\n",
    "#### Note\n",
    "\n",
    "You might consider importing two functions from `cmds/portfolio`: `performanceMetrics` and `maximumDrawdown`. No need to use these, and you may well have implemented these calculations with your own (better) code in `Assignment 1`.\n"
   ]
  },
  {
   "cell_type": "code",
   "execution_count": null,
   "id": "4e481f9b",
   "metadata": {},
   "outputs": [],
   "source": [
    "import pandas as pd\n",
    "import numpy as np\n",
    "import matplotlib.pyplot as plt\n",
    "\n",
    "# load into dfs\n",
    "prices = pd.read_excel('../data/exam_1_data.xlsx', 'prices')\n",
    "prices.index = prices['date']\n",
    "prices = prices.drop('date', axis=1)\n",
    "\n",
    "tot_ret  = pd.read_excel('../data/exam_1_data.xlsx', 'total returns')\n",
    "tot_ret.index = tot_ret['date']\n",
    "tot_ret = tot_ret.drop('date', axis=1)"
   ]
  },
  {
   "cell_type": "code",
   "execution_count": 52,
   "id": "bc63acbe",
   "metadata": {},
   "outputs": [
    {
     "data": {
      "text/html": [
       "<div>\n",
       "<style scoped>\n",
       "    .dataframe tbody tr th:only-of-type {\n",
       "        vertical-align: middle;\n",
       "    }\n",
       "\n",
       "    .dataframe tbody tr th {\n",
       "        vertical-align: top;\n",
       "    }\n",
       "\n",
       "    .dataframe thead th {\n",
       "        text-align: right;\n",
       "    }\n",
       "</style>\n",
       "<table border=\"1\" class=\"dataframe\">\n",
       "  <thead>\n",
       "    <tr style=\"text-align: right;\">\n",
       "      <th></th>\n",
       "      <th>mean</th>\n",
       "      <th>vol</th>\n",
       "      <th>sharpe ratio</th>\n",
       "      <th>kurtosis</th>\n",
       "      <th>skewness</th>\n",
       "      <th>max drawdown</th>\n",
       "    </tr>\n",
       "  </thead>\n",
       "  <tbody>\n",
       "    <tr>\n",
       "      <th>AAPL</th>\n",
       "      <td>0.271643</td>\n",
       "      <td>0.270042</td>\n",
       "      <td>1.005930</td>\n",
       "      <td>1.885931</td>\n",
       "      <td>-0.148249</td>\n",
       "      <td>-0.346407</td>\n",
       "    </tr>\n",
       "    <tr>\n",
       "      <th>AMZN</th>\n",
       "      <td>0.313481</td>\n",
       "      <td>0.303785</td>\n",
       "      <td>1.031916</td>\n",
       "      <td>1.892582</td>\n",
       "      <td>0.072706</td>\n",
       "      <td>-0.548307</td>\n",
       "    </tr>\n",
       "    <tr>\n",
       "      <th>AVGO</th>\n",
       "      <td>0.409931</td>\n",
       "      <td>0.361613</td>\n",
       "      <td>1.133618</td>\n",
       "      <td>3.506986</td>\n",
       "      <td>0.628551</td>\n",
       "      <td>-0.396644</td>\n",
       "    </tr>\n",
       "    <tr>\n",
       "      <th>BRK-B</th>\n",
       "      <td>0.129499</td>\n",
       "      <td>0.188231</td>\n",
       "      <td>0.687982</td>\n",
       "      <td>2.719930</td>\n",
       "      <td>-0.236461</td>\n",
       "      <td>-0.264770</td>\n",
       "    </tr>\n",
       "    <tr>\n",
       "      <th>GOOGL</th>\n",
       "      <td>0.236442</td>\n",
       "      <td>0.276605</td>\n",
       "      <td>0.854799</td>\n",
       "      <td>4.068113</td>\n",
       "      <td>0.627305</td>\n",
       "      <td>-0.418639</td>\n",
       "    </tr>\n",
       "    <tr>\n",
       "      <th>LLY</th>\n",
       "      <td>0.297114</td>\n",
       "      <td>0.271744</td>\n",
       "      <td>1.093361</td>\n",
       "      <td>1.794557</td>\n",
       "      <td>0.263480</td>\n",
       "      <td>-0.221437</td>\n",
       "    </tr>\n",
       "    <tr>\n",
       "      <th>META</th>\n",
       "      <td>0.264289</td>\n",
       "      <td>0.348043</td>\n",
       "      <td>0.759356</td>\n",
       "      <td>4.382225</td>\n",
       "      <td>0.073869</td>\n",
       "      <td>-0.760252</td>\n",
       "    </tr>\n",
       "    <tr>\n",
       "      <th>MSFT</th>\n",
       "      <td>0.265230</td>\n",
       "      <td>0.236819</td>\n",
       "      <td>1.119971</td>\n",
       "      <td>2.492423</td>\n",
       "      <td>0.013223</td>\n",
       "      <td>-0.350539</td>\n",
       "    </tr>\n",
       "    <tr>\n",
       "      <th>NVDA</th>\n",
       "      <td>0.667543</td>\n",
       "      <td>0.454295</td>\n",
       "      <td>1.469404</td>\n",
       "      <td>1.554351</td>\n",
       "      <td>0.386609</td>\n",
       "      <td>-0.659360</td>\n",
       "    </tr>\n",
       "    <tr>\n",
       "      <th>SPY</th>\n",
       "      <td>0.137843</td>\n",
       "      <td>0.167777</td>\n",
       "      <td>0.821586</td>\n",
       "      <td>6.437719</td>\n",
       "      <td>-0.575884</td>\n",
       "      <td>-0.318289</td>\n",
       "    </tr>\n",
       "    <tr>\n",
       "      <th>TSLA</th>\n",
       "      <td>0.505898</td>\n",
       "      <td>0.585973</td>\n",
       "      <td>0.863348</td>\n",
       "      <td>1.664826</td>\n",
       "      <td>0.537486</td>\n",
       "      <td>-0.722459</td>\n",
       "    </tr>\n",
       "  </tbody>\n",
       "</table>\n",
       "</div>"
      ],
      "text/plain": [
       "           mean       vol  sharpe ratio  kurtosis  skewness  max drawdown\n",
       "AAPL   0.271643  0.270042      1.005930  1.885931 -0.148249     -0.346407\n",
       "AMZN   0.313481  0.303785      1.031916  1.892582  0.072706     -0.548307\n",
       "AVGO   0.409931  0.361613      1.133618  3.506986  0.628551     -0.396644\n",
       "BRK-B  0.129499  0.188231      0.687982  2.719930 -0.236461     -0.264770\n",
       "GOOGL  0.236442  0.276605      0.854799  4.068113  0.627305     -0.418639\n",
       "LLY    0.297114  0.271744      1.093361  1.794557  0.263480     -0.221437\n",
       "META   0.264289  0.348043      0.759356  4.382225  0.073869     -0.760252\n",
       "MSFT   0.265230  0.236819      1.119971  2.492423  0.013223     -0.350539\n",
       "NVDA   0.667543  0.454295      1.469404  1.554351  0.386609     -0.659360\n",
       "SPY    0.137843  0.167777      0.821586  6.437719 -0.575884     -0.318289\n",
       "TSLA   0.505898  0.585973      0.863348  1.664826  0.537486     -0.722459"
      ]
     },
     "execution_count": 52,
     "metadata": {},
     "output_type": "execute_result"
    }
   ],
   "source": [
    "# we have weekly data so in order to annualize it we have to multiply by 52\n",
    "SCALE = 52\n",
    "mean_ret = tot_ret.mean() * SCALE\n",
    "mean_ret.name = 'mean'\n",
    "\n",
    "vol = tot_ret.std() * np.sqrt(SCALE)\n",
    "vol.name = 'vol'\n",
    "\n",
    "# sharpe_ratio based on total return instead of excess return\n",
    "sharpe_ratio = mean_ret / vol\n",
    "sharpe_ratio.name = 'sharpe ratio'\n",
    "\n",
    "# sharpe_ratio based on total return instead of excess return\n",
    "sharpe_ratio = mean_ret / vol\n",
    "sharpe_ratio.name = 'sharpe ratio'\n",
    "\n",
    "kurtosis = tot_ret.kurtosis()\n",
    "kurtosis.name = 'kurtosis'\n",
    "\n",
    "skewness = tot_ret.skew()\n",
    "skewness.name = 'skewness'\n",
    "\n",
    "# drawdown\n",
    "cum_returns = (1 + tot_ret).cumprod()\n",
    "rolling_max = cum_returns.cummax()\n",
    "drawdown = (cum_returns - rolling_max) / rolling_max\n",
    "max_drawdown = drawdown.min()\n",
    "max_drawdown.name = 'max drawdown'\n",
    "\n",
    "df = pd.concat([mean_ret, vol, sharpe_ratio, kurtosis, skewness, max_drawdown], axis=1)\n",
    "df"
   ]
  },
  {
   "cell_type": "code",
   "execution_count": 61,
   "id": "7de832e4",
   "metadata": {},
   "outputs": [
    {
     "data": {
      "image/png": "[encoded data removed]",
      "text/plain": [
       "<Figure size 640x480 with 1 Axes>"
      ]
     },
     "metadata": {},
     "output_type": "display_data"
    },
    {
     "data": {
      "image/png": "[encoded data removed]",
      "text/plain": [
       "<Figure size 640x480 with 1 Axes>"
      ]
     },
     "metadata": {},
     "output_type": "display_data"
    },
    {
     "data": {
      "image/png": "[encoded data removed]",
      "text/plain": [
       "<Figure size 640x480 with 1 Axes>"
      ]
     },
     "metadata": {},
     "output_type": "display_data"
    },
    {
     "data": {
      "text/plain": [
       "<Figure size 640x480 with 0 Axes>"
      ]
     },
     "metadata": {},
     "output_type": "display_data"
    }
   ],
   "source": [
    "plt.plot(tot_ret['MSFT'])\n",
    "plt.title('MSFT Returns')\n",
    "plt.show()\n",
    "plt.clf()\n",
    "plt.plot(tot_ret['NVDA'])\n",
    "plt.title('NVDA Returns')\n",
    "plt.show()\n",
    "plt.clf()\n",
    "plt.plot(tot_ret['TSLA'])\n",
    "plt.title('TSLA Returns')\n",
    "plt.show()\n",
    "plt.clf()"
   ]
  },
  {
   "cell_type": "markdown",
   "id": "36d2edc7",
   "metadata": {},
   "source": [
    "### 1.2.\n"
   ]
  },
  {
   "cell_type": "markdown",
   "id": "f6d20835",
   "metadata": {},
   "source": [
    "As a standalone investment, which is most attractive? And least? Justify your answer.\n"
   ]
  },
  {
   "cell_type": "markdown",
   "id": "7c7fcb40",
   "metadata": {},
   "source": [
    "# Answer\n",
    "\n",
    "Out of all of these securities, I think the most attractive investment is Microsoft.\n",
    "\n",
    "As an investor, I like to consider securities that have a sharpe ratio above one. In theory we are getting at least one unit of return per unit of risk we take on. This leaves us with AAPL, AMZN, AVGO, LLY, MSFT, NVDA\n",
    "\n",
    "Now if I'm maximizing my return per unit of risk I would pick NVDA, but I do not like its max dradown since I can only pick one asset. It is simply to risky. That is why I prefer MSFT. It's sharpe ratio is not as high as NVDA, but since I am in risk management I like its max drawdown a lot better than NVDA's since this is a standalone investment. If we compare MSFT to AVGO, it's sharpe ratio is slightly worse, but MSFT has a significantly better max drawdown as well as less skewness (it is slightly positively skewed at ~0.01. (vs. 0.38 and 0.62).\n"
   ]
  },
  {
   "cell_type": "markdown",
   "id": "2caffeb4",
   "metadata": {},
   "source": [
    "### 1.3.\n",
    "\n",
    "For each investment, estimate a regression against `SPY`. Report the\n",
    "\n",
    "- alpha (annualized as a mean)\n",
    "- beta\n",
    "- info ratio\n",
    "- r-squared\n",
    "\n",
    "Based on this table, which investment seems most attractive relative to holding `SPY`?\n",
    "\n",
    "#### Note\n",
    "\n",
    "You might consider importing two functions from `cmds/portfolio`: `get_ols_metrics`. No need to use it, and you may well have implemented these calculations with your own (better) code in `Assignment 2`.\n"
   ]
  },
  {
   "cell_type": "code",
   "execution_count": 110,
   "id": "35d448a4",
   "metadata": {},
   "outputs": [],
   "source": [
    "import numpy as np\n",
    "import pandas as pd\n",
    "from sklearn.linear_model import LinearRegression\n",
    "from sklearn.linear_model import Lasso, Ridge\n",
    "import statsmodels.api as sm\n",
    "import matplotlib.pyplot as plt\n",
    "import seaborn as sns\n",
    "\n",
    "def get_ols_metrics(regressors, targets, annualization=1, ignorenan=True):\n",
    "    # ensure regressors and targets are pandas dataframes, as expected\n",
    "    if not isinstance(regressors, pd.DataFrame):\n",
    "        regressors = regressors.to_frame()\n",
    "    if not isinstance(targets, pd.DataFrame):\n",
    "        targets = targets.to_frame()\n",
    "\n",
    "    # align the targets and regressors on the same dates\n",
    "    df_aligned = targets.join(regressors, how='inner', lsuffix='y ')\n",
    "    Y = df_aligned[targets.columns]\n",
    "    Xset = df_aligned[regressors.columns]\n",
    "\n",
    "    reg = pd.DataFrame(index=targets.columns)\n",
    "    for col in Y.columns:\n",
    "        y = Y[col]\n",
    "        \n",
    "        if ignorenan:\n",
    "            # ensure we use only non-NaN dates\n",
    "            alldata = Xset.join(y,lsuffix='X')\n",
    "            mask = alldata.notnull().all(axis=1)\n",
    "            y = y[mask]\n",
    "            X = Xset[mask]\n",
    "        else:\n",
    "            X = Xset\n",
    "\n",
    "        model = LinearRegression().fit(X, y)\n",
    "        reg.loc[col, 'alpha'] = model.intercept_ * annualization\n",
    "        reg.loc[col, regressors.columns] = model.coef_\n",
    "        reg.loc[col, 'r-squared'] = model.score(X, y)\n",
    "\n",
    "        # sklearn does not return the residuals, so we need to build them\n",
    "        yfit = model.predict(X)\n",
    "        residuals = y - yfit\n",
    "\n",
    "        num_roundoff = 1e-12\n",
    "        \n",
    "        # Treynor Ratio is only defined for univariate regression\n",
    "        if Xset.shape[1] == 1:\n",
    "            if np.abs(model.coef_) < num_roundoff:\n",
    "                reg.loc[col,'Treynor Ratio'] = None\n",
    "            else:\n",
    "                reg.loc[col,'Treynor Ratio'] = (y.mean() / model.coef_) * annualization\n",
    "\n",
    "        \n",
    "        # if intercept =0, numerical roundoff will nonetheless show nonzero Info Ratio        \n",
    "        if np.abs(model.intercept_) < num_roundoff:\n",
    "            reg.loc[col, 'Info Ratio'] = None\n",
    "        else:\n",
    "            reg.loc[col, 'Info Ratio'] = (model.intercept_ / residuals.std()) * np.sqrt(annualization)\n",
    "\n",
    "    return reg"
   ]
  },
  {
   "cell_type": "code",
   "execution_count": 115,
   "id": "4933ad70",
   "metadata": {},
   "outputs": [
    {
     "data": {
      "text/html": [
       "<div>\n",
       "<style scoped>\n",
       "    .dataframe tbody tr th:only-of-type {\n",
       "        vertical-align: middle;\n",
       "    }\n",
       "\n",
       "    .dataframe tbody tr th {\n",
       "        vertical-align: top;\n",
       "    }\n",
       "\n",
       "    .dataframe thead th {\n",
       "        text-align: right;\n",
       "    }\n",
       "</style>\n",
       "<table border=\"1\" class=\"dataframe\">\n",
       "  <thead>\n",
       "    <tr style=\"text-align: right;\">\n",
       "      <th></th>\n",
       "      <th>alpha</th>\n",
       "      <th>SPY</th>\n",
       "      <th>r-squared</th>\n",
       "      <th>Treynor Ratio</th>\n",
       "      <th>Info Ratio</th>\n",
       "    </tr>\n",
       "  </thead>\n",
       "  <tbody>\n",
       "    <tr>\n",
       "      <th>AAPL</th>\n",
       "      <td>1.193046e-01</td>\n",
       "      <td>1.105160</td>\n",
       "      <td>0.471468</td>\n",
       "      <td>0.245796</td>\n",
       "      <td>0.607701</td>\n",
       "    </tr>\n",
       "    <tr>\n",
       "      <th>AMZN</th>\n",
       "      <td>1.696077e-01</td>\n",
       "      <td>1.043745</td>\n",
       "      <td>0.332292</td>\n",
       "      <td>0.300343</td>\n",
       "      <td>0.683260</td>\n",
       "    </tr>\n",
       "    <tr>\n",
       "      <th>AVGO</th>\n",
       "      <td>2.321506e-01</td>\n",
       "      <td>1.289728</td>\n",
       "      <td>0.358075</td>\n",
       "      <td>0.317843</td>\n",
       "      <td>0.801279</td>\n",
       "    </tr>\n",
       "    <tr>\n",
       "      <th>BRK-B</th>\n",
       "      <td>1.443207e-02</td>\n",
       "      <td>0.834769</td>\n",
       "      <td>0.553626</td>\n",
       "      <td>0.155132</td>\n",
       "      <td>0.114759</td>\n",
       "    </tr>\n",
       "    <tr>\n",
       "      <th>GOOGL</th>\n",
       "      <td>8.870470e-02</td>\n",
       "      <td>1.071775</td>\n",
       "      <td>0.422622</td>\n",
       "      <td>0.220608</td>\n",
       "      <td>0.422042</td>\n",
       "    </tr>\n",
       "    <tr>\n",
       "      <th>LLY</th>\n",
       "      <td>2.093711e-01</td>\n",
       "      <td>0.636539</td>\n",
       "      <td>0.154453</td>\n",
       "      <td>0.466764</td>\n",
       "      <td>0.837893</td>\n",
       "    </tr>\n",
       "    <tr>\n",
       "      <th>META</th>\n",
       "      <td>1.097390e-01</td>\n",
       "      <td>1.121198</td>\n",
       "      <td>0.292122</td>\n",
       "      <td>0.235720</td>\n",
       "      <td>0.374756</td>\n",
       "    </tr>\n",
       "    <tr>\n",
       "      <th>MSFT</th>\n",
       "      <td>1.225329e-01</td>\n",
       "      <td>1.035213</td>\n",
       "      <td>0.537889</td>\n",
       "      <td>0.256208</td>\n",
       "      <td>0.761139</td>\n",
       "    </tr>\n",
       "    <tr>\n",
       "      <th>NVDA</th>\n",
       "      <td>4.322466e-01</td>\n",
       "      <td>1.706982</td>\n",
       "      <td>0.397418</td>\n",
       "      <td>0.391066</td>\n",
       "      <td>1.225705</td>\n",
       "    </tr>\n",
       "    <tr>\n",
       "      <th>SPY</th>\n",
       "      <td>-6.765422e-17</td>\n",
       "      <td>1.000000</td>\n",
       "      <td>1.000000</td>\n",
       "      <td>0.137843</td>\n",
       "      <td>NaN</td>\n",
       "    </tr>\n",
       "    <tr>\n",
       "      <th>TSLA</th>\n",
       "      <td>2.631012e-01</td>\n",
       "      <td>1.761397</td>\n",
       "      <td>0.254346</td>\n",
       "      <td>0.287214</td>\n",
       "      <td>0.519968</td>\n",
       "    </tr>\n",
       "  </tbody>\n",
       "</table>\n",
       "</div>"
      ],
      "text/plain": [
       "              alpha       SPY  r-squared  Treynor Ratio  Info Ratio\n",
       "AAPL   1.193046e-01  1.105160   0.471468       0.245796    0.607701\n",
       "AMZN   1.696077e-01  1.043745   0.332292       0.300343    0.683260\n",
       "AVGO   2.321506e-01  1.289728   0.358075       0.317843    0.801279\n",
       "BRK-B  1.443207e-02  0.834769   0.553626       0.155132    0.114759\n",
       "GOOGL  8.870470e-02  1.071775   0.422622       0.220608    0.422042\n",
       "LLY    2.093711e-01  0.636539   0.154453       0.466764    0.837893\n",
       "META   1.097390e-01  1.121198   0.292122       0.235720    0.374756\n",
       "MSFT   1.225329e-01  1.035213   0.537889       0.256208    0.761139\n",
       "NVDA   4.322466e-01  1.706982   0.397418       0.391066    1.225705\n",
       "SPY   -6.765422e-17  1.000000   1.000000       0.137843         NaN\n",
       "TSLA   2.631012e-01  1.761397   0.254346       0.287214    0.519968"
      ]
     },
     "execution_count": 115,
     "metadata": {},
     "output_type": "execute_result"
    }
   ],
   "source": [
    "import statsmodels.api as sm\n",
    "\n",
    "results = get_ols_metrics(tot_ret['SPY'], tot_ret, SCALE)\n",
    "results"
   ]
  },
  {
   "cell_type": "code",
   "execution_count": 117,
   "id": "efea0349",
   "metadata": {},
   "outputs": [
    {
     "data": {
      "text/plain": [
       "('NVDA', 'NVDA', 'LLY')"
      ]
     },
     "execution_count": 117,
     "metadata": {},
     "output_type": "execute_result"
    }
   ],
   "source": [
    "best_alpha = results['alpha'].idxmax()\n",
    "best_info_ratio = results['Info Ratio'].idxmax()\n",
    "\n",
    "best_alpha, best_info_ratio"
   ]
  },
  {
   "cell_type": "markdown",
   "id": "6cdb94d6",
   "metadata": {},
   "source": [
    "# Answer\n",
    "The most attractive investment relative to holding SPY is NVDA. This question is asking about which assset is the best relative to holding SPY (the market). We care about the investment which generated the most alpha, returns that are unexplained by SPY/the market. NVDA has the highest alpha out of this group of assets and also has the highest information ratio which means from whichever returns we can attribute to NVDA that were not from the market (SPY), the ratio of actual alpha to residual noise is the highest. (Sharpe ratio for alpha basically)"
   ]
  },
  {
   "cell_type": "markdown",
   "id": "406e5a89",
   "metadata": {},
   "source": [
    "### 1.4.\n",
    "\n",
    "Suppose you expect `AAPL` to do well relatively, but you want to hedge broad market risk (`SPY`) and A.I. risk (`NVDA`).\n",
    "\n",
    "For every $100 in `AAPL`, what should you hold in `SPY` and `NVDA`?\n"
   ]
  },
  {
   "cell_type": "code",
   "execution_count": 120,
   "id": "68365693",
   "metadata": {},
   "outputs": [
    {
     "data": {
      "text/html": [
       "<div>\n",
       "<style scoped>\n",
       "    .dataframe tbody tr th:only-of-type {\n",
       "        vertical-align: middle;\n",
       "    }\n",
       "\n",
       "    .dataframe tbody tr th {\n",
       "        vertical-align: top;\n",
       "    }\n",
       "\n",
       "    .dataframe thead th {\n",
       "        text-align: right;\n",
       "    }\n",
       "</style>\n",
       "<table border=\"1\" class=\"dataframe\">\n",
       "  <thead>\n",
       "    <tr style=\"text-align: right;\">\n",
       "      <th></th>\n",
       "      <th>alpha</th>\n",
       "      <th>SPY</th>\n",
       "      <th>NVDA</th>\n",
       "      <th>r-squared</th>\n",
       "      <th>Info Ratio</th>\n",
       "    </tr>\n",
       "  </thead>\n",
       "  <tbody>\n",
       "    <tr>\n",
       "      <th>AAPL</th>\n",
       "      <td>0.087351</td>\n",
       "      <td>0.978974</td>\n",
       "      <td>0.073923</td>\n",
       "      <td>0.480787</td>\n",
       "      <td>0.448917</td>\n",
       "    </tr>\n",
       "  </tbody>\n",
       "</table>\n",
       "</div>"
      ],
      "text/plain": [
       "         alpha       SPY      NVDA  r-squared  Info Ratio\n",
       "AAPL  0.087351  0.978974  0.073923   0.480787    0.448917"
      ]
     },
     "execution_count": 120,
     "metadata": {},
     "output_type": "execute_result"
    }
   ],
   "source": [
    "# How much of AAPL moves with SPY and NVDA?\n",
    "# Create a 2 factor model with SPY and AI Risk\n",
    "results = get_ols_metrics(tot_ret[['SPY', 'NVDA']], tot_ret['AAPL'], SCALE)\n",
    "results"
   ]
  },
  {
   "cell_type": "markdown",
   "id": "fa5725cc",
   "metadata": {},
   "source": [
    "# Answer\n",
    "It looks like for every $100 dollars we put into apple, we have to short $97.89 of SPY and short $7.39 of NVDA"
   ]
  },
  {
   "cell_type": "markdown",
   "id": "53512a52",
   "metadata": {},
   "source": [
    "### 1.5.\n",
    "\n",
    "Without estimating anything new, consider the idea of replicating `AAPL` using `SPY`, and `NVDA`. Which regression statistic best indicates if your replication tracks the target well?\n"
   ]
  },
  {
   "cell_type": "markdown",
   "id": "db9c263f",
   "metadata": {},
   "source": [
    "---\n"
   ]
  },
  {
   "cell_type": "markdown",
   "id": "c5be76ff",
   "metadata": {},
   "source": [
    "# Answer\n",
    "Well we see here that if we try to \"explain\" AAPL's behavior with SPY and NVDA (our 2 factors), we only get an R-squared of 0.480787. R-squared is a measure of how much the variance of our dependent variable (AAPL returns) can be explained by our independent variables (NVDA and SPY). In this example R-squared is really low so we would have a poor replication."
   ]
  },
  {
   "cell_type": "markdown",
   "id": "20993764",
   "metadata": {},
   "source": [
    "# 2. Portfolio Allocation\n"
   ]
  },
  {
   "cell_type": "markdown",
   "id": "3b9f44d6",
   "metadata": {},
   "source": [
    "### 2.1.\n",
    "\n",
    "Display the correlation matrix of the returns.\n",
    "\n",
    "- Based on this information, which investment do you anticipate will get extra weight in the portfolio, beyond what it would merit for its mean return?\n",
    "\n",
    "- Report the maximally correlated assets and the minimally correlated assets.\n"
   ]
  },
  {
   "cell_type": "code",
   "execution_count": 129,
   "id": "596bdf3f",
   "metadata": {},
   "outputs": [
    {
     "data": {
      "text/html": [
       "<div>\n",
       "<style scoped>\n",
       "    .dataframe tbody tr th:only-of-type {\n",
       "        vertical-align: middle;\n",
       "    }\n",
       "\n",
       "    .dataframe tbody tr th {\n",
       "        vertical-align: top;\n",
       "    }\n",
       "\n",
       "    .dataframe thead th {\n",
       "        text-align: right;\n",
       "    }\n",
       "</style>\n",
       "<table border=\"1\" class=\"dataframe\">\n",
       "  <thead>\n",
       "    <tr style=\"text-align: right;\">\n",
       "      <th></th>\n",
       "      <th>AAPL</th>\n",
       "      <th>AMZN</th>\n",
       "      <th>AVGO</th>\n",
       "      <th>BRK-B</th>\n",
       "      <th>GOOGL</th>\n",
       "      <th>LLY</th>\n",
       "      <th>META</th>\n",
       "      <th>MSFT</th>\n",
       "      <th>NVDA</th>\n",
       "      <th>SPY</th>\n",
       "      <th>TSLA</th>\n",
       "    </tr>\n",
       "  </thead>\n",
       "  <tbody>\n",
       "    <tr>\n",
       "      <th>AAPL</th>\n",
       "      <td>1.000000</td>\n",
       "      <td>0.476831</td>\n",
       "      <td>0.519308</td>\n",
       "      <td>0.417003</td>\n",
       "      <td>0.545585</td>\n",
       "      <td>0.216918</td>\n",
       "      <td>0.419841</td>\n",
       "      <td>0.613676</td>\n",
       "      <td>0.507801</td>\n",
       "      <td>0.686635</td>\n",
       "      <td>0.448325</td>\n",
       "    </tr>\n",
       "    <tr>\n",
       "      <th>AMZN</th>\n",
       "      <td>0.476831</td>\n",
       "      <td>1.000000</td>\n",
       "      <td>0.367663</td>\n",
       "      <td>0.281910</td>\n",
       "      <td>0.585064</td>\n",
       "      <td>0.167353</td>\n",
       "      <td>0.496040</td>\n",
       "      <td>0.615415</td>\n",
       "      <td>0.514741</td>\n",
       "      <td>0.576448</td>\n",
       "      <td>0.389788</td>\n",
       "    </tr>\n",
       "    <tr>\n",
       "      <th>AVGO</th>\n",
       "      <td>0.519308</td>\n",
       "      <td>0.367663</td>\n",
       "      <td>1.000000</td>\n",
       "      <td>0.324900</td>\n",
       "      <td>0.431007</td>\n",
       "      <td>0.175909</td>\n",
       "      <td>0.357989</td>\n",
       "      <td>0.505728</td>\n",
       "      <td>0.558456</td>\n",
       "      <td>0.598394</td>\n",
       "      <td>0.356842</td>\n",
       "    </tr>\n",
       "    <tr>\n",
       "      <th>BRK-B</th>\n",
       "      <td>0.417003</td>\n",
       "      <td>0.281910</td>\n",
       "      <td>0.324900</td>\n",
       "      <td>1.000000</td>\n",
       "      <td>0.376896</td>\n",
       "      <td>0.302655</td>\n",
       "      <td>0.290500</td>\n",
       "      <td>0.414376</td>\n",
       "      <td>0.319379</td>\n",
       "      <td>0.744060</td>\n",
       "      <td>0.221381</td>\n",
       "    </tr>\n",
       "    <tr>\n",
       "      <th>GOOGL</th>\n",
       "      <td>0.545585</td>\n",
       "      <td>0.585064</td>\n",
       "      <td>0.431007</td>\n",
       "      <td>0.376896</td>\n",
       "      <td>1.000000</td>\n",
       "      <td>0.202863</td>\n",
       "      <td>0.523786</td>\n",
       "      <td>0.654373</td>\n",
       "      <td>0.463963</td>\n",
       "      <td>0.650094</td>\n",
       "      <td>0.350708</td>\n",
       "    </tr>\n",
       "    <tr>\n",
       "      <th>LLY</th>\n",
       "      <td>0.216918</td>\n",
       "      <td>0.167353</td>\n",
       "      <td>0.175909</td>\n",
       "      <td>0.302655</td>\n",
       "      <td>0.202863</td>\n",
       "      <td>1.000000</td>\n",
       "      <td>0.160026</td>\n",
       "      <td>0.315593</td>\n",
       "      <td>0.212958</td>\n",
       "      <td>0.393005</td>\n",
       "      <td>0.178095</td>\n",
       "    </tr>\n",
       "    <tr>\n",
       "      <th>META</th>\n",
       "      <td>0.419841</td>\n",
       "      <td>0.496040</td>\n",
       "      <td>0.357989</td>\n",
       "      <td>0.290500</td>\n",
       "      <td>0.523786</td>\n",
       "      <td>0.160026</td>\n",
       "      <td>1.000000</td>\n",
       "      <td>0.539839</td>\n",
       "      <td>0.412218</td>\n",
       "      <td>0.540483</td>\n",
       "      <td>0.261607</td>\n",
       "    </tr>\n",
       "    <tr>\n",
       "      <th>MSFT</th>\n",
       "      <td>0.613676</td>\n",
       "      <td>0.615415</td>\n",
       "      <td>0.505728</td>\n",
       "      <td>0.414376</td>\n",
       "      <td>0.654373</td>\n",
       "      <td>0.315593</td>\n",
       "      <td>0.539839</td>\n",
       "      <td>1.000000</td>\n",
       "      <td>0.592201</td>\n",
       "      <td>0.733409</td>\n",
       "      <td>0.395818</td>\n",
       "    </tr>\n",
       "    <tr>\n",
       "      <th>NVDA</th>\n",
       "      <td>0.507801</td>\n",
       "      <td>0.514741</td>\n",
       "      <td>0.558456</td>\n",
       "      <td>0.319379</td>\n",
       "      <td>0.463963</td>\n",
       "      <td>0.212958</td>\n",
       "      <td>0.412218</td>\n",
       "      <td>0.592201</td>\n",
       "      <td>1.000000</td>\n",
       "      <td>0.630411</td>\n",
       "      <td>0.411362</td>\n",
       "    </tr>\n",
       "    <tr>\n",
       "      <th>SPY</th>\n",
       "      <td>0.686635</td>\n",
       "      <td>0.576448</td>\n",
       "      <td>0.598394</td>\n",
       "      <td>0.744060</td>\n",
       "      <td>0.650094</td>\n",
       "      <td>0.393005</td>\n",
       "      <td>0.540483</td>\n",
       "      <td>0.733409</td>\n",
       "      <td>0.630411</td>\n",
       "      <td>1.000000</td>\n",
       "      <td>0.504327</td>\n",
       "    </tr>\n",
       "    <tr>\n",
       "      <th>TSLA</th>\n",
       "      <td>0.448325</td>\n",
       "      <td>0.389788</td>\n",
       "      <td>0.356842</td>\n",
       "      <td>0.221381</td>\n",
       "      <td>0.350708</td>\n",
       "      <td>0.178095</td>\n",
       "      <td>0.261607</td>\n",
       "      <td>0.395818</td>\n",
       "      <td>0.411362</td>\n",
       "      <td>0.504327</td>\n",
       "      <td>1.000000</td>\n",
       "    </tr>\n",
       "  </tbody>\n",
       "</table>\n",
       "</div>"
      ],
      "text/plain": [
       "           AAPL      AMZN      AVGO     BRK-B     GOOGL       LLY      META  \\\n",
       "AAPL   1.000000  0.476831  0.519308  0.417003  0.545585  0.216918  0.419841   \n",
       "AMZN   0.476831  1.000000  0.367663  0.281910  0.585064  0.167353  0.496040   \n",
       "AVGO   0.519308  0.367663  1.000000  0.324900  0.431007  0.175909  0.357989   \n",
       "BRK-B  0.417003  0.281910  0.324900  1.000000  0.376896  0.302655  0.290500   \n",
       "GOOGL  0.545585  0.585064  0.431007  0.376896  1.000000  0.202863  0.523786   \n",
       "LLY    0.216918  0.167353  0.175909  0.302655  0.202863  1.000000  0.160026   \n",
       "META   0.419841  0.496040  0.357989  0.290500  0.523786  0.160026  1.000000   \n",
       "MSFT   0.613676  0.615415  0.505728  0.414376  0.654373  0.315593  0.539839   \n",
       "NVDA   0.507801  0.514741  0.558456  0.319379  0.463963  0.212958  0.412218   \n",
       "SPY    0.686635  0.576448  0.598394  0.744060  0.650094  0.393005  0.540483   \n",
       "TSLA   0.448325  0.389788  0.356842  0.221381  0.350708  0.178095  0.261607   \n",
       "\n",
       "           MSFT      NVDA       SPY      TSLA  \n",
       "AAPL   0.613676  0.507801  0.686635  0.448325  \n",
       "AMZN   0.615415  0.514741  0.576448  0.389788  \n",
       "AVGO   0.505728  0.558456  0.598394  0.356842  \n",
       "BRK-B  0.414376  0.319379  0.744060  0.221381  \n",
       "GOOGL  0.654373  0.463963  0.650094  0.350708  \n",
       "LLY    0.315593  0.212958  0.393005  0.178095  \n",
       "META   0.539839  0.412218  0.540483  0.261607  \n",
       "MSFT   1.000000  0.592201  0.733409  0.395818  \n",
       "NVDA   0.592201  1.000000  0.630411  0.411362  \n",
       "SPY    0.733409  0.630411  1.000000  0.504327  \n",
       "TSLA   0.395818  0.411362  0.504327  1.000000  "
      ]
     },
     "metadata": {},
     "output_type": "display_data"
    }
   ],
   "source": [
    "corr = tot_ret.corr()\n",
    "display(corr)\n"
   ]
  },
  {
   "cell_type": "code",
   "execution_count": 130,
   "id": "19458111",
   "metadata": {},
   "outputs": [
    {
     "data": {
      "text/plain": [
       "(('BRK-B', 'SPY'), ('LLY', 'META'))"
      ]
     },
     "metadata": {},
     "output_type": "display_data"
    },
    {
     "data": {
      "text/plain": [
       "<Axes: >"
      ]
     },
     "execution_count": 130,
     "metadata": {},
     "output_type": "execute_result"
    },
    {
     "data": {
      "image/png": "[encoded data removed]",
      "text/plain": [
       "<Figure size 640x480 with 2 Axes>"
      ]
     },
     "metadata": {},
     "output_type": "display_data"
    }
   ],
   "source": [
    "corr[corr == 1] = np.nan\n",
    "corr_pair = corr.unstack().dropna()\n",
    "display((corr_pair.idxmax(), corr_pair.idxmin()))\n",
    "sns.heatmap(corr)\n"
   ]
  },
  {
   "cell_type": "markdown",
   "id": "c9882589",
   "metadata": {},
   "source": [
    "# Answer\n",
    "Usually the asset that has the smallest amounts of correlation with the other assets will be weighted disproportionately (with respect to its mean return) in the portfolio since it will be a diversifier. In this case it looks like LLY has the lowest correlation consistently with the other assets."
   ]
  },
  {
   "cell_type": "markdown",
   "id": "a10c91c6",
   "metadata": {},
   "source": [
    "### 2.2.\n",
    "\n",
    "Calculate the weights of the mean-variance optimized portfolio, also called the tangency portfolio.\n",
    "\n",
    "- Display a table indexed by each investment, with the optimal weights in one column and the Sharpe ratios in another column.\n",
    "\n",
    "- Do the investments with the best Sharpe ratios tend to get the biggest weights?\n",
    "\n",
    "#### Note:\n",
    "\n",
    "To estimate the optimal weights, consider using the provided function below.\n"
   ]
  },
  {
   "cell_type": "code",
   "execution_count": 157,
   "id": "b9136a81",
   "metadata": {},
   "outputs": [],
   "source": [
    "def optimized_weights(returns,dropna=True,scale_cov=1):\n",
    "    if dropna:\n",
    "        returns = returns.dropna()\n",
    "\n",
    "    covmat_full = returns.cov()\n",
    "    covmat_diag = np.diag(np.diag(covmat_full))\n",
    "    covmat = scale_cov * covmat_full + (1-scale_cov) * covmat_diag\n",
    "\n",
    "    weights = np.linalg.solve(covmat,returns.mean())\n",
    "    weights = weights / weights.sum()\n",
    "\n",
    "    if returns.mean() @ weights < 0:\n",
    "        weights = -weights\n",
    "\n",
    "    return pd.DataFrame(weights, columns=['weight'], index=returns.columns)"
   ]
  },
  {
   "cell_type": "code",
   "execution_count": 160,
   "id": "059d8031",
   "metadata": {},
   "outputs": [
    {
     "data": {
      "text/html": [
       "<div>\n",
       "<style scoped>\n",
       "    .dataframe tbody tr th:only-of-type {\n",
       "        vertical-align: middle;\n",
       "    }\n",
       "\n",
       "    .dataframe tbody tr th {\n",
       "        vertical-align: top;\n",
       "    }\n",
       "\n",
       "    .dataframe thead th {\n",
       "        text-align: right;\n",
       "    }\n",
       "</style>\n",
       "<table border=\"1\" class=\"dataframe\">\n",
       "  <thead>\n",
       "    <tr style=\"text-align: right;\">\n",
       "      <th></th>\n",
       "      <th>weight</th>\n",
       "      <th>sharpe ratio</th>\n",
       "    </tr>\n",
       "  </thead>\n",
       "  <tbody>\n",
       "    <tr>\n",
       "      <th>AAPL</th>\n",
       "      <td>0.510019</td>\n",
       "      <td>1.005930</td>\n",
       "    </tr>\n",
       "    <tr>\n",
       "      <th>AMZN</th>\n",
       "      <td>0.446167</td>\n",
       "      <td>1.031916</td>\n",
       "    </tr>\n",
       "    <tr>\n",
       "      <th>AVGO</th>\n",
       "      <td>0.571889</td>\n",
       "      <td>1.133618</td>\n",
       "    </tr>\n",
       "    <tr>\n",
       "      <th>BRK-B</th>\n",
       "      <td>2.187957</td>\n",
       "      <td>0.687982</td>\n",
       "    </tr>\n",
       "    <tr>\n",
       "      <th>GOOGL</th>\n",
       "      <td>0.228139</td>\n",
       "      <td>0.854799</td>\n",
       "    </tr>\n",
       "    <tr>\n",
       "      <th>LLY</th>\n",
       "      <td>1.081608</td>\n",
       "      <td>1.093361</td>\n",
       "    </tr>\n",
       "    <tr>\n",
       "      <th>META</th>\n",
       "      <td>0.219753</td>\n",
       "      <td>0.759356</td>\n",
       "    </tr>\n",
       "    <tr>\n",
       "      <th>MSFT</th>\n",
       "      <td>0.509144</td>\n",
       "      <td>1.119971</td>\n",
       "    </tr>\n",
       "    <tr>\n",
       "      <th>NVDA</th>\n",
       "      <td>0.798800</td>\n",
       "      <td>1.469404</td>\n",
       "    </tr>\n",
       "    <tr>\n",
       "      <th>SPY</th>\n",
       "      <td>-5.811005</td>\n",
       "      <td>0.821586</td>\n",
       "    </tr>\n",
       "    <tr>\n",
       "      <th>TSLA</th>\n",
       "      <td>0.257530</td>\n",
       "      <td>0.863348</td>\n",
       "    </tr>\n",
       "  </tbody>\n",
       "</table>\n",
       "</div>"
      ],
      "text/plain": [
       "         weight  sharpe ratio\n",
       "AAPL   0.510019      1.005930\n",
       "AMZN   0.446167      1.031916\n",
       "AVGO   0.571889      1.133618\n",
       "BRK-B  2.187957      0.687982\n",
       "GOOGL  0.228139      0.854799\n",
       "LLY    1.081608      1.093361\n",
       "META   0.219753      0.759356\n",
       "MSFT   0.509144      1.119971\n",
       "NVDA   0.798800      1.469404\n",
       "SPY   -5.811005      0.821586\n",
       "TSLA   0.257530      0.863348"
      ]
     },
     "execution_count": 160,
     "metadata": {},
     "output_type": "execute_result"
    }
   ],
   "source": [
    "tan_weights = optimized_weights(tot_ret) # we consider the case we end up on the undesireable piece of the frontier\n",
    "final_df = tan_weights.join(sharpe_ratio)\n",
    "final_df"
   ]
  },
  {
   "cell_type": "code",
   "execution_count": 172,
   "id": "27aae039",
   "metadata": {},
   "outputs": [
    {
     "data": {
      "image/png": "[encoded data removed]",
      "text/plain": [
       "<Figure size 640x480 with 1 Axes>"
      ]
     },
     "metadata": {},
     "output_type": "display_data"
    }
   ],
   "source": [
    "fig, ax = plt.subplots()\n",
    "ax.scatter(final_df['weight'], final_df['sharpe ratio'])\n",
    "plt.xlabel('Weight')\n",
    "plt.ylabel('Sharpe Ratio')\n",
    "for tick in final_df.index:\n",
    "    ax.annotate(tick, (final_df['weight'][tick], final_df['sharpe ratio'][tick]))"
   ]
  },
  {
   "cell_type": "markdown",
   "id": "3a6292cc",
   "metadata": {},
   "source": [
    "# Answer\n",
    "It looks like there are many securities with varying sharpe ratios that share similar weights. So sharpe ratio in a portfolio of assets is not explaining the portfolio weights."
   ]
  },
  {
   "cell_type": "markdown",
   "id": "c25d9c7d",
   "metadata": {},
   "source": [
    "### 2.3.\n",
    "\n",
    "Report the following performance statistics of the portfolio achieved with the optimized weights calculated above.\n",
    "\n",
    "- mean\n",
    "- volatility\n",
    "- Sharpe\n",
    "\n",
    "(Annualize all three statistics.)\n"
   ]
  },
  {
   "cell_type": "code",
   "execution_count": 190,
   "id": "6a885afb",
   "metadata": {},
   "outputs": [
    {
     "data": {
      "text/html": [
       "<div>\n",
       "<style scoped>\n",
       "    .dataframe tbody tr th:only-of-type {\n",
       "        vertical-align: middle;\n",
       "    }\n",
       "\n",
       "    .dataframe tbody tr th {\n",
       "        vertical-align: top;\n",
       "    }\n",
       "\n",
       "    .dataframe thead th {\n",
       "        text-align: right;\n",
       "    }\n",
       "</style>\n",
       "<table border=\"1\" class=\"dataframe\">\n",
       "  <thead>\n",
       "    <tr style=\"text-align: right;\">\n",
       "      <th></th>\n",
       "      <th>mean return</th>\n",
       "      <th>volatility</th>\n",
       "      <th>sharpe ratio</th>\n",
       "    </tr>\n",
       "  </thead>\n",
       "  <tbody>\n",
       "    <tr>\n",
       "      <th>return</th>\n",
       "      <td>1.227112</td>\n",
       "      <td>0.572067</td>\n",
       "      <td>2.14505</td>\n",
       "    </tr>\n",
       "  </tbody>\n",
       "</table>\n",
       "</div>"
      ],
      "text/plain": [
       "        mean return  volatility  sharpe ratio\n",
       "return     1.227112    0.572067       2.14505"
      ]
     },
     "execution_count": 190,
     "metadata": {},
     "output_type": "execute_result"
    }
   ],
   "source": [
    "# calc mean portfolio ret by applying the weights to the security returns and avg\n",
    "port_ret = tot_ret.dot(tan_weights).rename(columns={'weight':'return'})\n",
    "\n",
    "port_mean_ret = port_ret.mean() * SCALE\n",
    "port_mean_ret.name = 'mean return'\n",
    "\n",
    "port_vol = port_ret.std() * np.sqrt(SCALE)\n",
    "port_vol.name = 'volatility'\n",
    "\n",
    "port_sharpe_ratio = port_mean_ret / port_vol\n",
    "port_sharpe_ratio.name = 'sharpe ratio'\n",
    "\n",
    "port_stats_df = pd.concat([port_mean_ret, port_vol, port_sharpe_ratio], axis=1)\n",
    "port_stats_df"
   ]
  },
  {
   "cell_type": "markdown",
   "id": "6e5ed99b",
   "metadata": {},
   "source": [
    "### 2.4.\n",
    "\n",
    "Briefly explain why the optimized portfolio is unrealistic.\n"
   ]
  },
  {
   "cell_type": "code",
   "execution_count": 192,
   "id": "0d6404fc",
   "metadata": {},
   "outputs": [
    {
     "data": {
      "text/plain": [
       "weight    12.622009\n",
       "dtype: float64"
      ]
     },
     "execution_count": 192,
     "metadata": {},
     "output_type": "execute_result"
    }
   ],
   "source": [
    "# let's calculate the actual leverage we will need in the portfolio....\n",
    "tan_weights.abs().sum()"
   ]
  },
  {
   "cell_type": "code",
   "execution_count": 191,
   "id": "523adc89",
   "metadata": {},
   "outputs": [
    {
     "data": {
      "image/png": "[encoded data removed]",
      "text/plain": [
       "<Figure size 640x480 with 1 Axes>"
      ]
     },
     "metadata": {},
     "output_type": "display_data"
    }
   ],
   "source": [
    "fig, ax = plt.subplots()\n",
    "ax.scatter(final_df['weight'], final_df['sharpe ratio'])\n",
    "plt.xlabel('Weight')\n",
    "plt.ylabel('Sharpe Ratio')\n",
    "for tick in final_df.index:\n",
    "    ax.annotate(tick, (final_df['weight'][tick], final_df['sharpe ratio'][tick]))"
   ]
  },
  {
   "cell_type": "markdown",
   "id": "7cc4c960",
   "metadata": {},
   "source": [
    "# Answer\n",
    "Clearly, we will have to use an insane amount of leverage to get this optimal portfolio. If we sum the absolute values of the weights in our portfolio, we get 12 instead of 1. One position that is very unrealistic is shorting the market (SPY) by more than 500%. Again the problem is not with the mathematics inside of the optimizer, it is a problem with the assumptions we make with our data. The optimizer is being \"greedy\", it is always finding the most optimal point without any regard for how realistic/unrealistic the weights would be. If it can find the slightest gains by creating some high weights, it will do it. We need to impose some constraints."
   ]
  },
  {
   "cell_type": "markdown",
   "id": "871a4ebf",
   "metadata": {},
   "source": [
    "### 2.5.\n",
    "\n",
    "Briefly explain what the optimizer likes about its biggest...\n",
    "\n",
    "- long position.\n",
    "- short position.\n"
   ]
  },
  {
   "cell_type": "markdown",
   "id": "c77f6cee",
   "metadata": {},
   "source": [
    "# Answer\n",
    "## Short Position\n",
    "Since most of the securities in our portfolio makeup the SNP 500 index (we have big tech stocks and berkshire hathway), our optimizer prefers to \"hedge\" away the risk to these assets by heavily shorting the SPY etf, since it is strongly related to AMZN, AAPL, TSLA, GOOGL, META, MSFT, AVGO, etc because at the end of the day we are trying to find that sweet spot (the Mean-Variance frontier)\n",
    "\n",
    "# Long Position\n",
    "Now since majority of these securities are blue chip tech stocks which are dependent on the same kinds of factors (supply chains are heavily overlapped/reliant on each other, etc.) they adopt similar kinds of behavior. Because the optimizer is trying to find the best way to diversify these tech stocks, it is using Berkshire Hathway to help that process. Berkshire Hathway is not a tech stock, it is a completely different animal with a completely different risk profile. This makes it the perfect candidate to go heavily long on with the existing weights of the tech stocks."
   ]
  },
  {
   "cell_type": "markdown",
   "id": "96d3dddf",
   "metadata": {},
   "source": [
    "### 2.6. Extra, not graded.\n",
    "\n",
    "Try dropping the asset which had the biggest short position from the investment set. Re-run the optimization. What do you think of these new weights compared to the original optimized weights?\n",
    "\n",
    "What is going on?\n"
   ]
  },
  {
   "cell_type": "code",
   "execution_count": 195,
   "id": "7c39942e",
   "metadata": {},
   "outputs": [
    {
     "data": {
      "text/html": [
       "<div>\n",
       "<style scoped>\n",
       "    .dataframe tbody tr th:only-of-type {\n",
       "        vertical-align: middle;\n",
       "    }\n",
       "\n",
       "    .dataframe tbody tr th {\n",
       "        vertical-align: top;\n",
       "    }\n",
       "\n",
       "    .dataframe thead th {\n",
       "        text-align: right;\n",
       "    }\n",
       "</style>\n",
       "<table border=\"1\" class=\"dataframe\">\n",
       "  <thead>\n",
       "    <tr style=\"text-align: right;\">\n",
       "      <th></th>\n",
       "      <th>weight</th>\n",
       "      <th>sharpe ratio</th>\n",
       "    </tr>\n",
       "  </thead>\n",
       "  <tbody>\n",
       "    <tr>\n",
       "      <th>AAPL</th>\n",
       "      <td>0.049252</td>\n",
       "      <td>1.005930</td>\n",
       "    </tr>\n",
       "    <tr>\n",
       "      <th>AMZN</th>\n",
       "      <td>0.155983</td>\n",
       "      <td>1.031916</td>\n",
       "    </tr>\n",
       "    <tr>\n",
       "      <th>AVGO</th>\n",
       "      <td>0.151073</td>\n",
       "      <td>1.133618</td>\n",
       "    </tr>\n",
       "    <tr>\n",
       "      <th>BRK-B</th>\n",
       "      <td>-0.043041</td>\n",
       "      <td>0.687982</td>\n",
       "    </tr>\n",
       "    <tr>\n",
       "      <th>GOOGL</th>\n",
       "      <td>-0.057048</td>\n",
       "      <td>0.854799</td>\n",
       "    </tr>\n",
       "    <tr>\n",
       "      <th>LLY</th>\n",
       "      <td>0.445933</td>\n",
       "      <td>1.093361</td>\n",
       "    </tr>\n",
       "    <tr>\n",
       "      <th>META</th>\n",
       "      <td>0.000208</td>\n",
       "      <td>0.759356</td>\n",
       "    </tr>\n",
       "    <tr>\n",
       "      <th>MSFT</th>\n",
       "      <td>-0.054585</td>\n",
       "      <td>1.119971</td>\n",
       "    </tr>\n",
       "    <tr>\n",
       "      <th>NVDA</th>\n",
       "      <td>0.321344</td>\n",
       "      <td>1.469404</td>\n",
       "    </tr>\n",
       "    <tr>\n",
       "      <th>TSLA</th>\n",
       "      <td>0.030882</td>\n",
       "      <td>0.863348</td>\n",
       "    </tr>\n",
       "  </tbody>\n",
       "</table>\n",
       "</div>"
      ],
      "text/plain": [
       "         weight  sharpe ratio\n",
       "AAPL   0.049252      1.005930\n",
       "AMZN   0.155983      1.031916\n",
       "AVGO   0.151073      1.133618\n",
       "BRK-B -0.043041      0.687982\n",
       "GOOGL -0.057048      0.854799\n",
       "LLY    0.445933      1.093361\n",
       "META   0.000208      0.759356\n",
       "MSFT  -0.054585      1.119971\n",
       "NVDA   0.321344      1.469404\n",
       "TSLA   0.030882      0.863348"
      ]
     },
     "execution_count": 195,
     "metadata": {},
     "output_type": "execute_result"
    }
   ],
   "source": [
    "tot_ret_ex_SPY = tot_ret.drop('SPY', axis=1)\n",
    "tan_weights = optimized_weights(tot_ret_ex_SPY) # we consider the case we end up on the undesireable piece of the frontier\n",
    "ex_SPY_df = tan_weights.join(sharpe_ratio)\n",
    "ex_SPY_df"
   ]
  },
  {
   "cell_type": "code",
   "execution_count": 196,
   "id": "6bce4a7e",
   "metadata": {},
   "outputs": [
    {
     "data": {
      "text/html": [
       "<div>\n",
       "<style scoped>\n",
       "    .dataframe tbody tr th:only-of-type {\n",
       "        vertical-align: middle;\n",
       "    }\n",
       "\n",
       "    .dataframe tbody tr th {\n",
       "        vertical-align: top;\n",
       "    }\n",
       "\n",
       "    .dataframe thead th {\n",
       "        text-align: right;\n",
       "    }\n",
       "</style>\n",
       "<table border=\"1\" class=\"dataframe\">\n",
       "  <thead>\n",
       "    <tr style=\"text-align: right;\">\n",
       "      <th></th>\n",
       "      <th>mean return</th>\n",
       "      <th>volatility</th>\n",
       "      <th>sharpe ratio</th>\n",
       "    </tr>\n",
       "  </thead>\n",
       "  <tbody>\n",
       "    <tr>\n",
       "      <th>return</th>\n",
       "      <td>0.453348</td>\n",
       "      <td>0.262508</td>\n",
       "      <td>1.726988</td>\n",
       "    </tr>\n",
       "  </tbody>\n",
       "</table>\n",
       "</div>"
      ],
      "text/plain": [
       "        mean return  volatility  sharpe ratio\n",
       "return     0.453348    0.262508      1.726988"
      ]
     },
     "execution_count": 196,
     "metadata": {},
     "output_type": "execute_result"
    }
   ],
   "source": [
    "# calc mean portfolio ret by applying the weights to the security returns and avg\n",
    "port_ret = tot_ret_ex_SPY.dot(tan_weights).rename(columns={'weight':'return'})\n",
    "\n",
    "port_mean_ret = port_ret.mean() * SCALE\n",
    "port_mean_ret.name = 'mean return'\n",
    "\n",
    "port_vol = port_ret.std() * np.sqrt(SCALE)\n",
    "port_vol.name = 'volatility'\n",
    "\n",
    "port_sharpe_ratio = port_mean_ret / port_vol\n",
    "port_sharpe_ratio.name = 'sharpe ratio'\n",
    "\n",
    "port_stats_df = pd.concat([port_mean_ret, port_vol, port_sharpe_ratio], axis=1)\n",
    "port_stats_df"
   ]
  },
  {
   "cell_type": "code",
   "execution_count": 200,
   "id": "4f69d25d",
   "metadata": {},
   "outputs": [
    {
     "data": {
      "image/png": "[encoded data removed]",
      "text/plain": [
       "<Figure size 640x480 with 1 Axes>"
      ]
     },
     "metadata": {},
     "output_type": "display_data"
    }
   ],
   "source": [
    "fig, ax = plt.subplots()\n",
    "ax.scatter(final_df['weight'], final_df['sharpe ratio'])\n",
    "plt.xlabel('Weight')\n",
    "plt.ylabel('Sharpe Ratio')\n",
    "for tick in final_df.index:\n",
    "    ax.annotate(tick, (final_df['weight'][tick], final_df['sharpe ratio'][tick]))"
   ]
  },
  {
   "cell_type": "code",
   "execution_count": 199,
   "id": "3334383e",
   "metadata": {},
   "outputs": [
    {
     "data": {
      "text/plain": [
       "weight    1.309349\n",
       "dtype: float64"
      ]
     },
     "execution_count": 199,
     "metadata": {},
     "output_type": "execute_result"
    }
   ],
   "source": [
    "tan_weights.abs().sum()"
   ]
  },
  {
   "cell_type": "markdown",
   "id": "f7d6de53",
   "metadata": {},
   "source": [
    "# Answer\n",
    "I think these weights are a lot more realistic. We are not required to have unrealistic amounts of leverage and our largest short position is GOOGL at -0.057. Additionally, we see that weights are more evenly distributed across assets unlike the last time (it was HEAVILY skewed towards shorting SPY and heavily going long BRK-B). This time the weights are more evenly distributed."
   ]
  },
  {
   "cell_type": "markdown",
   "id": "ee708089",
   "metadata": {},
   "source": [
    "---\n"
   ]
  }
 ],
 "metadata": {
  "hide_input": false,
  "kernelspec": {
   "display_name": "quant",
   "language": "python",
   "name": "python3"
  },
  "language_info": {
   "codemirror_mode": {
    "name": "ipython",
    "version": 3
   },
   "file_extension": ".py",
   "mimetype": "text/x-python",
   "name": "python",
   "nbconvert_exporter": "python",
   "pygments_lexer": "ipython3",
   "version": "3.12.4"
  }
 },
 "nbformat": 4,
 "nbformat_minor": 5
}
