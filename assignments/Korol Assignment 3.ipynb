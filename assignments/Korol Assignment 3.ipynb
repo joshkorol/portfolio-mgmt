{
 "cells": [
  {
   "cell_type": "markdown",
   "id": "a97c4251",
   "metadata": {},
   "source": [
    "# 3. Assignment\n",
    "\n",
    "## Portfolio Management\n",
    "### MLP Training\n",
    "\n",
    "#### January 2025\n",
    "\n",
    "Questions?\n",
    "* Contact: Mark Hendricks\n",
    "* hendricks@uchicago.edu"
   ]
  },
  {
   "cell_type": "markdown",
   "id": "cbb624b4",
   "metadata": {},
   "source": [
    "***"
   ]
  },
  {
   "cell_type": "markdown",
   "id": "d1614003",
   "metadata": {},
   "source": [
    "# 1. Mean-Variance Optimization\n",
    "\n",
    "### Data\n",
    "You will need the file in the github repo, `data/multi_asset_etf_data.xlsx`.\n",
    "- The time-series data gives monthly returns for the 11 asset classes and a short-term Treasury-bill fund return, (\"SHV\",) which we consider as the risk-free rate.\n",
    "- The data is provided in total returns, (in which case you should ignore the SHV column,) as well as excess returns, (where SHV has been subtracted from the other columns.)\n",
    "\n",
    "### Model\n",
    "We are going to analyze the problem in terms of **excess** returns.\n",
    "- Be sure to use the`excess returns` tab of the data.\n",
    "\n",
    "### Format\n",
    "In the questions below, **annualize the statistics** you report, noting it is monthly data."
   ]
  },
  {
   "cell_type": "code",
   "execution_count": 2,
   "id": "716e7bb3",
   "metadata": {},
   "outputs": [
    {
     "data": {
      "text/html": [
       "<div>\n",
       "<style scoped>\n",
       "    .dataframe tbody tr th:only-of-type {\n",
       "        vertical-align: middle;\n",
       "    }\n",
       "\n",
       "    .dataframe tbody tr th {\n",
       "        vertical-align: top;\n",
       "    }\n",
       "\n",
       "    .dataframe thead th {\n",
       "        text-align: right;\n",
       "    }\n",
       "</style>\n",
       "<table border=\"1\" class=\"dataframe\">\n",
       "  <thead>\n",
       "    <tr style=\"text-align: right;\">\n",
       "      <th></th>\n",
       "      <th>BWX</th>\n",
       "      <th>DBC</th>\n",
       "      <th>EEM</th>\n",
       "      <th>EFA</th>\n",
       "      <th>HYG</th>\n",
       "      <th>IEF</th>\n",
       "      <th>IYR</th>\n",
       "      <th>PSP</th>\n",
       "      <th>QAI</th>\n",
       "      <th>SPY</th>\n",
       "      <th>TIP</th>\n",
       "    </tr>\n",
       "    <tr>\n",
       "      <th>Date</th>\n",
       "      <th></th>\n",
       "      <th></th>\n",
       "      <th></th>\n",
       "      <th></th>\n",
       "      <th></th>\n",
       "      <th></th>\n",
       "      <th></th>\n",
       "      <th></th>\n",
       "      <th></th>\n",
       "      <th></th>\n",
       "      <th></th>\n",
       "    </tr>\n",
       "  </thead>\n",
       "  <tbody>\n",
       "    <tr>\n",
       "      <th>2015-02-28</th>\n",
       "      <td>-0.011015</td>\n",
       "      <td>0.044071</td>\n",
       "      <td>0.043898</td>\n",
       "      <td>0.063196</td>\n",
       "      <td>0.022130</td>\n",
       "      <td>-0.024898</td>\n",
       "      <td>-0.026157</td>\n",
       "      <td>0.063921</td>\n",
       "      <td>0.033956</td>\n",
       "      <td>0.056023</td>\n",
       "      <td>-0.013067</td>\n",
       "    </tr>\n",
       "    <tr>\n",
       "      <th>2015-03-31</th>\n",
       "      <td>-0.013831</td>\n",
       "      <td>-0.060448</td>\n",
       "      <td>-0.014882</td>\n",
       "      <td>-0.014195</td>\n",
       "      <td>-0.009387</td>\n",
       "      <td>0.008652</td>\n",
       "      <td>0.010836</td>\n",
       "      <td>-0.010363</td>\n",
       "      <td>-0.001576</td>\n",
       "      <td>-0.015615</td>\n",
       "      <td>-0.004728</td>\n",
       "    </tr>\n",
       "    <tr>\n",
       "      <th>2015-04-30</th>\n",
       "      <td>0.019488</td>\n",
       "      <td>0.071380</td>\n",
       "      <td>0.068436</td>\n",
       "      <td>0.036375</td>\n",
       "      <td>0.008623</td>\n",
       "      <td>-0.006421</td>\n",
       "      <td>-0.048251</td>\n",
       "      <td>0.053891</td>\n",
       "      <td>0.001913</td>\n",
       "      <td>0.009743</td>\n",
       "      <td>0.006688</td>\n",
       "    </tr>\n",
       "    <tr>\n",
       "      <th>2015-05-31</th>\n",
       "      <td>-0.032312</td>\n",
       "      <td>-0.031711</td>\n",
       "      <td>-0.041045</td>\n",
       "      <td>0.001955</td>\n",
       "      <td>0.003555</td>\n",
       "      <td>-0.004164</td>\n",
       "      <td>-0.003311</td>\n",
       "      <td>0.026868</td>\n",
       "      <td>-0.000333</td>\n",
       "      <td>0.012856</td>\n",
       "      <td>-0.010056</td>\n",
       "    </tr>\n",
       "    <tr>\n",
       "      <th>2015-06-30</th>\n",
       "      <td>-0.007532</td>\n",
       "      <td>0.016284</td>\n",
       "      <td>-0.029399</td>\n",
       "      <td>-0.031273</td>\n",
       "      <td>-0.018962</td>\n",
       "      <td>-0.016400</td>\n",
       "      <td>-0.044070</td>\n",
       "      <td>-0.019244</td>\n",
       "      <td>-0.013762</td>\n",
       "      <td>-0.020402</td>\n",
       "      <td>-0.010337</td>\n",
       "    </tr>\n",
       "  </tbody>\n",
       "</table>\n",
       "</div>"
      ],
      "text/plain": [
       "                 BWX       DBC       EEM       EFA       HYG       IEF  \\\n",
       "Date                                                                     \n",
       "2015-02-28 -0.011015  0.044071  0.043898  0.063196  0.022130 -0.024898   \n",
       "2015-03-31 -0.013831 -0.060448 -0.014882 -0.014195 -0.009387  0.008652   \n",
       "2015-04-30  0.019488  0.071380  0.068436  0.036375  0.008623 -0.006421   \n",
       "2015-05-31 -0.032312 -0.031711 -0.041045  0.001955  0.003555 -0.004164   \n",
       "2015-06-30 -0.007532  0.016284 -0.029399 -0.031273 -0.018962 -0.016400   \n",
       "\n",
       "                 IYR       PSP       QAI       SPY       TIP  \n",
       "Date                                                          \n",
       "2015-02-28 -0.026157  0.063921  0.033956  0.056023 -0.013067  \n",
       "2015-03-31  0.010836 -0.010363 -0.001576 -0.015615 -0.004728  \n",
       "2015-04-30 -0.048251  0.053891  0.001913  0.009743  0.006688  \n",
       "2015-05-31 -0.003311  0.026868 -0.000333  0.012856 -0.010056  \n",
       "2015-06-30 -0.044070 -0.019244 -0.013762 -0.020402 -0.010337  "
      ]
     },
     "metadata": {},
     "output_type": "display_data"
    },
    {
     "data": {
      "text/html": [
       "<div>\n",
       "<style scoped>\n",
       "    .dataframe tbody tr th:only-of-type {\n",
       "        vertical-align: middle;\n",
       "    }\n",
       "\n",
       "    .dataframe tbody tr th {\n",
       "        vertical-align: top;\n",
       "    }\n",
       "\n",
       "    .dataframe thead th {\n",
       "        text-align: right;\n",
       "    }\n",
       "</style>\n",
       "<table border=\"1\" class=\"dataframe\">\n",
       "  <thead>\n",
       "    <tr style=\"text-align: right;\">\n",
       "      <th></th>\n",
       "      <th>BWX</th>\n",
       "      <th>DBC</th>\n",
       "      <th>EEM</th>\n",
       "      <th>EFA</th>\n",
       "      <th>HYG</th>\n",
       "      <th>IEF</th>\n",
       "      <th>IYR</th>\n",
       "      <th>PSP</th>\n",
       "      <th>QAI</th>\n",
       "      <th>SHV</th>\n",
       "      <th>SPY</th>\n",
       "      <th>TIP</th>\n",
       "    </tr>\n",
       "    <tr>\n",
       "      <th>Date</th>\n",
       "      <th></th>\n",
       "      <th></th>\n",
       "      <th></th>\n",
       "      <th></th>\n",
       "      <th></th>\n",
       "      <th></th>\n",
       "      <th></th>\n",
       "      <th></th>\n",
       "      <th></th>\n",
       "      <th></th>\n",
       "      <th></th>\n",
       "      <th></th>\n",
       "    </tr>\n",
       "  </thead>\n",
       "  <tbody>\n",
       "    <tr>\n",
       "      <th>2015-01-31</th>\n",
       "      <td>24.789871</td>\n",
       "      <td>15.205714</td>\n",
       "      <td>31.288193</td>\n",
       "      <td>45.824959</td>\n",
       "      <td>53.610416</td>\n",
       "      <td>90.744255</td>\n",
       "      <td>58.977341</td>\n",
       "      <td>29.480389</td>\n",
       "      <td>25.040636</td>\n",
       "      <td>93.556313</td>\n",
       "      <td>167.568741</td>\n",
       "      <td>89.879349</td>\n",
       "    </tr>\n",
       "    <tr>\n",
       "      <th>2015-02-28</th>\n",
       "      <td>24.521303</td>\n",
       "      <td>15.878611</td>\n",
       "      <td>32.667366</td>\n",
       "      <td>48.729248</td>\n",
       "      <td>54.806553</td>\n",
       "      <td>88.501328</td>\n",
       "      <td>57.445370</td>\n",
       "      <td>31.370153</td>\n",
       "      <td>25.895470</td>\n",
       "      <td>93.573288</td>\n",
       "      <td>176.986847</td>\n",
       "      <td>88.721176</td>\n",
       "    </tr>\n",
       "    <tr>\n",
       "      <th>2015-03-31</th>\n",
       "      <td>24.179916</td>\n",
       "      <td>14.917331</td>\n",
       "      <td>32.178249</td>\n",
       "      <td>48.033123</td>\n",
       "      <td>54.287090</td>\n",
       "      <td>89.258972</td>\n",
       "      <td>58.062641</td>\n",
       "      <td>31.042225</td>\n",
       "      <td>25.852297</td>\n",
       "      <td>93.564774</td>\n",
       "      <td>174.207169</td>\n",
       "      <td>88.293663</td>\n",
       "    </tr>\n",
       "    <tr>\n",
       "      <th>2015-04-30</th>\n",
       "      <td>24.653324</td>\n",
       "      <td>15.983480</td>\n",
       "      <td>34.383327</td>\n",
       "      <td>49.784679</td>\n",
       "      <td>54.760128</td>\n",
       "      <td>88.694000</td>\n",
       "      <td>55.266369</td>\n",
       "      <td>32.717941</td>\n",
       "      <td>25.904106</td>\n",
       "      <td>93.573288</td>\n",
       "      <td>175.920349</td>\n",
       "      <td>88.892181</td>\n",
       "    </tr>\n",
       "    <tr>\n",
       "      <th>2015-05-31</th>\n",
       "      <td>23.856731</td>\n",
       "      <td>15.476623</td>\n",
       "      <td>32.972065</td>\n",
       "      <td>49.881989</td>\n",
       "      <td>54.954777</td>\n",
       "      <td>88.324692</td>\n",
       "      <td>55.083366</td>\n",
       "      <td>33.597023</td>\n",
       "      <td>25.895470</td>\n",
       "      <td>93.573288</td>\n",
       "      <td>178.181976</td>\n",
       "      <td>87.998283</td>\n",
       "    </tr>\n",
       "  </tbody>\n",
       "</table>\n",
       "</div>"
      ],
      "text/plain": [
       "                  BWX        DBC        EEM        EFA        HYG        IEF  \\\n",
       "Date                                                                           \n",
       "2015-01-31  24.789871  15.205714  31.288193  45.824959  53.610416  90.744255   \n",
       "2015-02-28  24.521303  15.878611  32.667366  48.729248  54.806553  88.501328   \n",
       "2015-03-31  24.179916  14.917331  32.178249  48.033123  54.287090  89.258972   \n",
       "2015-04-30  24.653324  15.983480  34.383327  49.784679  54.760128  88.694000   \n",
       "2015-05-31  23.856731  15.476623  32.972065  49.881989  54.954777  88.324692   \n",
       "\n",
       "                  IYR        PSP        QAI        SHV         SPY        TIP  \n",
       "Date                                                                           \n",
       "2015-01-31  58.977341  29.480389  25.040636  93.556313  167.568741  89.879349  \n",
       "2015-02-28  57.445370  31.370153  25.895470  93.573288  176.986847  88.721176  \n",
       "2015-03-31  58.062641  31.042225  25.852297  93.564774  174.207169  88.293663  \n",
       "2015-04-30  55.266369  32.717941  25.904106  93.573288  175.920349  88.892181  \n",
       "2015-05-31  55.083366  33.597023  25.895470  93.573288  178.181976  87.998283  "
      ]
     },
     "metadata": {},
     "output_type": "display_data"
    },
    {
     "data": {
      "text/html": [
       "<div>\n",
       "<style scoped>\n",
       "    .dataframe tbody tr th:only-of-type {\n",
       "        vertical-align: middle;\n",
       "    }\n",
       "\n",
       "    .dataframe tbody tr th {\n",
       "        vertical-align: top;\n",
       "    }\n",
       "\n",
       "    .dataframe thead th {\n",
       "        text-align: right;\n",
       "    }\n",
       "</style>\n",
       "<table border=\"1\" class=\"dataframe\">\n",
       "  <thead>\n",
       "    <tr style=\"text-align: right;\">\n",
       "      <th></th>\n",
       "      <th>BWX</th>\n",
       "      <th>DBC</th>\n",
       "      <th>EEM</th>\n",
       "      <th>EFA</th>\n",
       "      <th>HYG</th>\n",
       "      <th>IEF</th>\n",
       "      <th>IYR</th>\n",
       "      <th>PSP</th>\n",
       "      <th>QAI</th>\n",
       "      <th>SHV</th>\n",
       "      <th>SPY</th>\n",
       "      <th>TIP</th>\n",
       "    </tr>\n",
       "    <tr>\n",
       "      <th>Date</th>\n",
       "      <th></th>\n",
       "      <th></th>\n",
       "      <th></th>\n",
       "      <th></th>\n",
       "      <th></th>\n",
       "      <th></th>\n",
       "      <th></th>\n",
       "      <th></th>\n",
       "      <th></th>\n",
       "      <th></th>\n",
       "      <th></th>\n",
       "      <th></th>\n",
       "    </tr>\n",
       "  </thead>\n",
       "  <tbody>\n",
       "    <tr>\n",
       "      <th>2015-02-28</th>\n",
       "      <td>-0.010834</td>\n",
       "      <td>0.044253</td>\n",
       "      <td>0.044080</td>\n",
       "      <td>0.063378</td>\n",
       "      <td>0.022312</td>\n",
       "      <td>-0.024717</td>\n",
       "      <td>-0.025976</td>\n",
       "      <td>0.064102</td>\n",
       "      <td>0.034138</td>\n",
       "      <td>0.000181</td>\n",
       "      <td>0.056204</td>\n",
       "      <td>-0.012886</td>\n",
       "    </tr>\n",
       "    <tr>\n",
       "      <th>2015-03-31</th>\n",
       "      <td>-0.013922</td>\n",
       "      <td>-0.060539</td>\n",
       "      <td>-0.014973</td>\n",
       "      <td>-0.014286</td>\n",
       "      <td>-0.009478</td>\n",
       "      <td>0.008561</td>\n",
       "      <td>0.010745</td>\n",
       "      <td>-0.010454</td>\n",
       "      <td>-0.001667</td>\n",
       "      <td>-0.000091</td>\n",
       "      <td>-0.015706</td>\n",
       "      <td>-0.004819</td>\n",
       "    </tr>\n",
       "    <tr>\n",
       "      <th>2015-04-30</th>\n",
       "      <td>0.019579</td>\n",
       "      <td>0.071471</td>\n",
       "      <td>0.068527</td>\n",
       "      <td>0.036466</td>\n",
       "      <td>0.008714</td>\n",
       "      <td>-0.006330</td>\n",
       "      <td>-0.048160</td>\n",
       "      <td>0.053982</td>\n",
       "      <td>0.002004</td>\n",
       "      <td>0.000091</td>\n",
       "      <td>0.009834</td>\n",
       "      <td>0.006779</td>\n",
       "    </tr>\n",
       "    <tr>\n",
       "      <th>2015-05-31</th>\n",
       "      <td>-0.032312</td>\n",
       "      <td>-0.031711</td>\n",
       "      <td>-0.041045</td>\n",
       "      <td>0.001955</td>\n",
       "      <td>0.003555</td>\n",
       "      <td>-0.004164</td>\n",
       "      <td>-0.003311</td>\n",
       "      <td>0.026868</td>\n",
       "      <td>-0.000333</td>\n",
       "      <td>0.000000</td>\n",
       "      <td>0.012856</td>\n",
       "      <td>-0.010056</td>\n",
       "    </tr>\n",
       "    <tr>\n",
       "      <th>2015-06-30</th>\n",
       "      <td>-0.007442</td>\n",
       "      <td>0.016375</td>\n",
       "      <td>-0.029309</td>\n",
       "      <td>-0.031182</td>\n",
       "      <td>-0.018871</td>\n",
       "      <td>-0.016309</td>\n",
       "      <td>-0.043979</td>\n",
       "      <td>-0.019153</td>\n",
       "      <td>-0.013671</td>\n",
       "      <td>0.000091</td>\n",
       "      <td>-0.020312</td>\n",
       "      <td>-0.010246</td>\n",
       "    </tr>\n",
       "  </tbody>\n",
       "</table>\n",
       "</div>"
      ],
      "text/plain": [
       "                 BWX       DBC       EEM       EFA       HYG       IEF  \\\n",
       "Date                                                                     \n",
       "2015-02-28 -0.010834  0.044253  0.044080  0.063378  0.022312 -0.024717   \n",
       "2015-03-31 -0.013922 -0.060539 -0.014973 -0.014286 -0.009478  0.008561   \n",
       "2015-04-30  0.019579  0.071471  0.068527  0.036466  0.008714 -0.006330   \n",
       "2015-05-31 -0.032312 -0.031711 -0.041045  0.001955  0.003555 -0.004164   \n",
       "2015-06-30 -0.007442  0.016375 -0.029309 -0.031182 -0.018871 -0.016309   \n",
       "\n",
       "                 IYR       PSP       QAI       SHV       SPY       TIP  \n",
       "Date                                                                    \n",
       "2015-02-28 -0.025976  0.064102  0.034138  0.000181  0.056204 -0.012886  \n",
       "2015-03-31  0.010745 -0.010454 -0.001667 -0.000091 -0.015706 -0.004819  \n",
       "2015-04-30 -0.048160  0.053982  0.002004  0.000091  0.009834  0.006779  \n",
       "2015-05-31 -0.003311  0.026868 -0.000333  0.000000  0.012856 -0.010056  \n",
       "2015-06-30 -0.043979 -0.019153 -0.013671  0.000091 -0.020312 -0.010246  "
      ]
     },
     "metadata": {},
     "output_type": "display_data"
    }
   ],
   "source": [
    "import numpy as np\n",
    "import pandas as pd\n",
    "\n",
    "path = '../data/multi_asset_etf_data.xlsx'\n",
    "xret_df = pd.read_excel(path, 'excess returns').set_index('Date')\n",
    "price_df = pd.read_excel(path, 'prices').set_index('Date')\n",
    "totret_df = pd.read_excel(path, 'total returns').set_index('Date')\n",
    "\n",
    "display(xret_df.head())\n",
    "display(price_df.head())\n",
    "display(totret_df.head())\n",
    "\n",
    "SCALE = 12"
   ]
  },
  {
   "cell_type": "markdown",
   "id": "d3962427",
   "metadata": {},
   "source": [
    "### 1. Summary Statistics\n",
    "* Calculate and display the mean and volatility of each asset’s excess return.\n",
    "* Which assets have the best and worst Sharpe ratios?"
   ]
  },
  {
   "cell_type": "markdown",
   "id": "7e1edc6e",
   "metadata": {},
   "source": [
    "# Mean\n"
   ]
  },
  {
   "cell_type": "code",
   "execution_count": 3,
   "id": "9b8194b2",
   "metadata": {},
   "outputs": [
    {
     "data": {
      "text/plain": [
       "BWX   -0.027044\n",
       "DBC    0.031525\n",
       "EEM    0.027967\n",
       "EFA    0.045770\n",
       "HYG    0.025270\n",
       "IEF   -0.012205\n",
       "IYR    0.044846\n",
       "PSP    0.091640\n",
       "QAI    0.007708\n",
       "SPY    0.122538\n",
       "TIP    0.002133\n",
       "Name: Mean Excess Return, dtype: float64"
      ]
     },
     "metadata": {},
     "output_type": "display_data"
    }
   ],
   "source": [
    "mean_xret = xret_df.mean() * SCALE\n",
    "mean_xret.name = 'Mean Excess Return'\n",
    "display(mean_xret)"
   ]
  },
  {
   "cell_type": "markdown",
   "id": "5b19d419",
   "metadata": {},
   "source": [
    "\n",
    "# Vol"
   ]
  },
  {
   "cell_type": "code",
   "execution_count": 4,
   "id": "1e2c592c",
   "metadata": {},
   "outputs": [
    {
     "data": {
      "text/plain": [
       "BWX    0.087950\n",
       "DBC    0.168289\n",
       "EEM    0.172594\n",
       "EFA    0.152762\n",
       "HYG    0.076912\n",
       "IEF    0.064897\n",
       "IYR    0.178480\n",
       "PSP    0.223924\n",
       "QAI    0.051882\n",
       "SPY    0.153169\n",
       "TIP    0.050171\n",
       "Name: Vol, dtype: float64"
      ]
     },
     "metadata": {},
     "output_type": "display_data"
    }
   ],
   "source": [
    "vol = xret_df.std() * np.sqrt(SCALE)\n",
    "vol.name = 'Vol'\n",
    "display(vol)"
   ]
  },
  {
   "cell_type": "markdown",
   "id": "9838b72e",
   "metadata": {},
   "source": [
    "# Sharpe Ratio"
   ]
  },
  {
   "cell_type": "code",
   "execution_count": 5,
   "id": "10c8ca30",
   "metadata": {},
   "outputs": [
    {
     "data": {
      "text/plain": [
       "BWX   -0.307498\n",
       "DBC    0.187327\n",
       "EEM    0.162038\n",
       "EFA    0.299613\n",
       "HYG    0.328557\n",
       "IEF   -0.188068\n",
       "IYR    0.251269\n",
       "PSP    0.409244\n",
       "QAI    0.148576\n",
       "SPY    0.800018\n",
       "TIP    0.042512\n",
       "Name: Sharpe Ratio, dtype: float64"
      ]
     },
     "metadata": {},
     "output_type": "display_data"
    }
   ],
   "source": [
    "sharpe_ratio = mean_xret / vol\n",
    "sharpe_ratio.name = 'Sharpe Ratio'\n",
    "display(sharpe_ratio)"
   ]
  },
  {
   "cell_type": "markdown",
   "id": "2e8eb0d1",
   "metadata": {},
   "source": [
    "Best Sharpe Ratio is clearly SPY at 0.8, the worst sharpe ratio is BWX."
   ]
  },
  {
   "cell_type": "markdown",
   "id": "bfb4b87c",
   "metadata": {},
   "source": [
    "### 2. Descriptive Analysis\n",
    "* Calculate the correlation matrix of the returns. Which pair has the highest correlation? And the lowest?\n",
    "* How well have TIPS done in our sample? Have they outperformed domestic bonds? Foreign bonds?"
   ]
  },
  {
   "cell_type": "code",
   "execution_count": 6,
   "id": "63248aea",
   "metadata": {},
   "outputs": [
    {
     "data": {
      "text/plain": [
       "<Axes: >"
      ]
     },
     "execution_count": 6,
     "metadata": {},
     "output_type": "execute_result"
    },
    {
     "data": {
      "image/png": "[encoded data removed]",
      "text/plain": [
       "<Figure size 640x480 with 2 Axes>"
      ]
     },
     "metadata": {},
     "output_type": "display_data"
    }
   ],
   "source": [
    "import seaborn as sns\n",
    "\n",
    "corr = xret_df.corr()\n",
    "corr[corr == 1.0] = np.nan\n",
    "sns.heatmap(corr)"
   ]
  },
  {
   "cell_type": "code",
   "execution_count": 7,
   "id": "84f5c697",
   "metadata": {},
   "outputs": [
    {
     "data": {
      "text/plain": [
       "(('PSP', 'QAI'), ('DBC', 'IEF'))"
      ]
     },
     "execution_count": 7,
     "metadata": {},
     "output_type": "execute_result"
    }
   ],
   "source": [
    "corr_pairs = corr.unstack().dropna()\n",
    "max_pair, min_pair = corr_pairs.idxmax(), corr_pairs.idxmin()\n",
    "max_pair, min_pair"
   ]
  },
  {
   "cell_type": "markdown",
   "id": "0ac590ef",
   "metadata": {},
   "source": [
    "### 3. The MV frontier.\n",
    "* Compute and display the weights of the mean-variance optimal (tangency) portfolio.\n",
    "* Does the ranking of weights align with the ranking of Sharpe ratios?\n",
    "* Compute the mean, volatility, and Sharpe ratio for the tangency portfolio."
   ]
  },
  {
   "cell_type": "code",
   "execution_count": 8,
   "id": "11069878",
   "metadata": {},
   "outputs": [],
   "source": [
    "clean_xret_df = xret_df.dropna()\n",
    "scale_cov = 1\n",
    "\n",
    "covmat = clean_xret_df.cov()\n",
    "var = np.diag(np.diag(covmat))\n",
    "covmat = scale_cov * covmat + (1 - scale_cov) * var\n",
    "\n",
    "tan_weights = np.linalg.solve(covmat, clean_xret_df.mean())\n",
    "tan_weights = tan_weights / tan_weights.sum()\n",
    "\n",
    "tan_weights = pd.DataFrame(tan_weights, index=clean_xret_df.columns, columns=['tangency weight']).sort_values(by='tangency weight')\n",
    "if clean_xret_df.dot(tan_weights).sum().item() != 1:\n",
    "    tan_weights = -tan_weights"
   ]
  },
  {
   "cell_type": "code",
   "execution_count": 9,
   "id": "a0a915dd",
   "metadata": {},
   "outputs": [
    {
     "data": {
      "text/plain": [
       "<BarContainer object of 11 artists>"
      ]
     },
     "execution_count": 9,
     "metadata": {},
     "output_type": "execute_result"
    },
    {
     "data": {
      "image/png": "[encoded data removed]",
      "text/plain": [
       "<Figure size 640x480 with 1 Axes>"
      ]
     },
     "metadata": {},
     "output_type": "display_data"
    }
   ],
   "source": [
    "import matplotlib.pyplot as plt\n",
    "\n",
    "plt.bar(tan_weights.index, tan_weights['tangency weight'].to_list())"
   ]
  },
  {
   "cell_type": "code",
   "execution_count": 10,
   "id": "812aa5b7",
   "metadata": {},
   "outputs": [
    {
     "data": {
      "text/html": [
       "<div>\n",
       "<style scoped>\n",
       "    .dataframe tbody tr th:only-of-type {\n",
       "        vertical-align: middle;\n",
       "    }\n",
       "\n",
       "    .dataframe tbody tr th {\n",
       "        vertical-align: top;\n",
       "    }\n",
       "\n",
       "    .dataframe thead th {\n",
       "        text-align: right;\n",
       "    }\n",
       "</style>\n",
       "<table border=\"1\" class=\"dataframe\">\n",
       "  <thead>\n",
       "    <tr style=\"text-align: right;\">\n",
       "      <th></th>\n",
       "      <th>tangency weight</th>\n",
       "    </tr>\n",
       "  </thead>\n",
       "  <tbody>\n",
       "    <tr>\n",
       "      <th>SPY</th>\n",
       "      <td>0.791391</td>\n",
       "    </tr>\n",
       "    <tr>\n",
       "      <th>IEF</th>\n",
       "      <td>0.605326</td>\n",
       "    </tr>\n",
       "    <tr>\n",
       "      <th>EEM</th>\n",
       "      <td>0.174452</td>\n",
       "    </tr>\n",
       "    <tr>\n",
       "      <th>PSP</th>\n",
       "      <td>0.089959</td>\n",
       "    </tr>\n",
       "    <tr>\n",
       "      <th>DBC</th>\n",
       "      <td>0.074523</td>\n",
       "    </tr>\n",
       "    <tr>\n",
       "      <th>HYG</th>\n",
       "      <td>0.069143</td>\n",
       "    </tr>\n",
       "    <tr>\n",
       "      <th>IYR</th>\n",
       "      <td>-0.122423</td>\n",
       "    </tr>\n",
       "    <tr>\n",
       "      <th>BWX</th>\n",
       "      <td>-0.201433</td>\n",
       "    </tr>\n",
       "    <tr>\n",
       "      <th>EFA</th>\n",
       "      <td>-0.222207</td>\n",
       "    </tr>\n",
       "    <tr>\n",
       "      <th>TIP</th>\n",
       "      <td>-0.475295</td>\n",
       "    </tr>\n",
       "    <tr>\n",
       "      <th>QAI</th>\n",
       "      <td>-1.783436</td>\n",
       "    </tr>\n",
       "  </tbody>\n",
       "</table>\n",
       "</div>"
      ],
      "text/plain": [
       "     tangency weight\n",
       "SPY         0.791391\n",
       "IEF         0.605326\n",
       "EEM         0.174452\n",
       "PSP         0.089959\n",
       "DBC         0.074523\n",
       "HYG         0.069143\n",
       "IYR        -0.122423\n",
       "BWX        -0.201433\n",
       "EFA        -0.222207\n",
       "TIP        -0.475295\n",
       "QAI        -1.783436"
      ]
     },
     "execution_count": 10,
     "metadata": {},
     "output_type": "execute_result"
    }
   ],
   "source": [
    "tan_weights"
   ]
  },
  {
   "cell_type": "code",
   "execution_count": 11,
   "id": "d82e6fb7",
   "metadata": {},
   "outputs": [
    {
     "data": {
      "text/plain": [
       "BWX   -0.307498\n",
       "IEF   -0.188068\n",
       "TIP    0.042512\n",
       "QAI    0.148576\n",
       "EEM    0.162038\n",
       "DBC    0.187327\n",
       "IYR    0.251269\n",
       "EFA    0.299613\n",
       "HYG    0.328557\n",
       "PSP    0.409244\n",
       "SPY    0.800018\n",
       "dtype: float64"
      ]
     },
     "execution_count": 11,
     "metadata": {},
     "output_type": "execute_result"
    }
   ],
   "source": [
    "sharpe_ratio = mean_xret / vol\n",
    "sharpe_ratio.sort_values()"
   ]
  },
  {
   "cell_type": "code",
   "execution_count": 12,
   "id": "dd4ba6a6",
   "metadata": {},
   "outputs": [
    {
     "data": {
      "text/plain": [
       "Text(0, 0.5, 'sharpe ratio')"
      ]
     },
     "execution_count": 12,
     "metadata": {},
     "output_type": "execute_result"
    },
    {
     "data": {
      "image/png": "[encoded data removed]",
      "text/plain": [
       "<Figure size 640x480 with 1 Axes>"
      ]
     },
     "metadata": {},
     "output_type": "display_data"
    }
   ],
   "source": [
    "plt.scatter(tan_weights, sharpe_ratio)\n",
    "plt.xlabel('tangency weight')\n",
    "plt.ylabel('sharpe ratio')"
   ]
  },
  {
   "cell_type": "markdown",
   "id": "9efe6765",
   "metadata": {},
   "source": [
    "Clearly there is no relationship between tangency weight and sharpe ratio."
   ]
  },
  {
   "cell_type": "markdown",
   "id": "cb46aec7",
   "metadata": {},
   "source": [
    "# Tan Portfolio Statistics"
   ]
  },
  {
   "cell_type": "code",
   "execution_count": 14,
   "id": "64b1a84f",
   "metadata": {},
   "outputs": [
    {
     "data": {
      "text/html": [
       "<div>\n",
       "<style scoped>\n",
       "    .dataframe tbody tr th:only-of-type {\n",
       "        vertical-align: middle;\n",
       "    }\n",
       "\n",
       "    .dataframe tbody tr th {\n",
       "        vertical-align: top;\n",
       "    }\n",
       "\n",
       "    .dataframe thead th {\n",
       "        text-align: right;\n",
       "    }\n",
       "</style>\n",
       "<table border=\"1\" class=\"dataframe\">\n",
       "  <thead>\n",
       "    <tr style=\"text-align: right;\">\n",
       "      <th></th>\n",
       "      <th>BWX</th>\n",
       "      <th>DBC</th>\n",
       "      <th>EEM</th>\n",
       "      <th>EFA</th>\n",
       "      <th>HYG</th>\n",
       "      <th>IEF</th>\n",
       "      <th>IYR</th>\n",
       "      <th>PSP</th>\n",
       "      <th>QAI</th>\n",
       "      <th>SPY</th>\n",
       "      <th>TIP</th>\n",
       "    </tr>\n",
       "    <tr>\n",
       "      <th>Date</th>\n",
       "      <th></th>\n",
       "      <th></th>\n",
       "      <th></th>\n",
       "      <th></th>\n",
       "      <th></th>\n",
       "      <th></th>\n",
       "      <th></th>\n",
       "      <th></th>\n",
       "      <th></th>\n",
       "      <th></th>\n",
       "      <th></th>\n",
       "    </tr>\n",
       "  </thead>\n",
       "  <tbody>\n",
       "    <tr>\n",
       "      <th>2015-02-28</th>\n",
       "      <td>-0.011015</td>\n",
       "      <td>0.044071</td>\n",
       "      <td>0.043898</td>\n",
       "      <td>0.063196</td>\n",
       "      <td>0.022130</td>\n",
       "      <td>-0.024898</td>\n",
       "      <td>-0.026157</td>\n",
       "      <td>0.063921</td>\n",
       "      <td>0.033956</td>\n",
       "      <td>0.056023</td>\n",
       "      <td>-0.013067</td>\n",
       "    </tr>\n",
       "    <tr>\n",
       "      <th>2015-03-31</th>\n",
       "      <td>-0.013831</td>\n",
       "      <td>-0.060448</td>\n",
       "      <td>-0.014882</td>\n",
       "      <td>-0.014195</td>\n",
       "      <td>-0.009387</td>\n",
       "      <td>0.008652</td>\n",
       "      <td>0.010836</td>\n",
       "      <td>-0.010363</td>\n",
       "      <td>-0.001576</td>\n",
       "      <td>-0.015615</td>\n",
       "      <td>-0.004728</td>\n",
       "    </tr>\n",
       "    <tr>\n",
       "      <th>2015-04-30</th>\n",
       "      <td>0.019488</td>\n",
       "      <td>0.071380</td>\n",
       "      <td>0.068436</td>\n",
       "      <td>0.036375</td>\n",
       "      <td>0.008623</td>\n",
       "      <td>-0.006421</td>\n",
       "      <td>-0.048251</td>\n",
       "      <td>0.053891</td>\n",
       "      <td>0.001913</td>\n",
       "      <td>0.009743</td>\n",
       "      <td>0.006688</td>\n",
       "    </tr>\n",
       "    <tr>\n",
       "      <th>2015-05-31</th>\n",
       "      <td>-0.032312</td>\n",
       "      <td>-0.031711</td>\n",
       "      <td>-0.041045</td>\n",
       "      <td>0.001955</td>\n",
       "      <td>0.003555</td>\n",
       "      <td>-0.004164</td>\n",
       "      <td>-0.003311</td>\n",
       "      <td>0.026868</td>\n",
       "      <td>-0.000333</td>\n",
       "      <td>0.012856</td>\n",
       "      <td>-0.010056</td>\n",
       "    </tr>\n",
       "    <tr>\n",
       "      <th>2015-06-30</th>\n",
       "      <td>-0.007532</td>\n",
       "      <td>0.016284</td>\n",
       "      <td>-0.029399</td>\n",
       "      <td>-0.031273</td>\n",
       "      <td>-0.018962</td>\n",
       "      <td>-0.016400</td>\n",
       "      <td>-0.044070</td>\n",
       "      <td>-0.019244</td>\n",
       "      <td>-0.013762</td>\n",
       "      <td>-0.020402</td>\n",
       "      <td>-0.010337</td>\n",
       "    </tr>\n",
       "    <tr>\n",
       "      <th>...</th>\n",
       "      <td>...</td>\n",
       "      <td>...</td>\n",
       "      <td>...</td>\n",
       "      <td>...</td>\n",
       "      <td>...</td>\n",
       "      <td>...</td>\n",
       "      <td>...</td>\n",
       "      <td>...</td>\n",
       "      <td>...</td>\n",
       "      <td>...</td>\n",
       "      <td>...</td>\n",
       "    </tr>\n",
       "    <tr>\n",
       "      <th>2024-08-31</th>\n",
       "      <td>0.025540</td>\n",
       "      <td>-0.025794</td>\n",
       "      <td>0.004799</td>\n",
       "      <td>0.027624</td>\n",
       "      <td>0.010494</td>\n",
       "      <td>0.008478</td>\n",
       "      <td>0.049029</td>\n",
       "      <td>-0.003754</td>\n",
       "      <td>0.002669</td>\n",
       "      <td>0.018386</td>\n",
       "      <td>0.003011</td>\n",
       "    </tr>\n",
       "    <tr>\n",
       "      <th>2024-09-30</th>\n",
       "      <td>0.018898</td>\n",
       "      <td>0.002651</td>\n",
       "      <td>0.052827</td>\n",
       "      <td>0.003247</td>\n",
       "      <td>0.012385</td>\n",
       "      <td>0.009239</td>\n",
       "      <td>0.026045</td>\n",
       "      <td>0.047032</td>\n",
       "      <td>0.009962</td>\n",
       "      <td>0.016419</td>\n",
       "      <td>0.010390</td>\n",
       "    </tr>\n",
       "    <tr>\n",
       "      <th>2024-10-31</th>\n",
       "      <td>-0.052073</td>\n",
       "      <td>0.010793</td>\n",
       "      <td>-0.034322</td>\n",
       "      <td>-0.056308</td>\n",
       "      <td>-0.013212</td>\n",
       "      <td>-0.037450</td>\n",
       "      <td>-0.038523</td>\n",
       "      <td>-0.017355</td>\n",
       "      <td>-0.009499</td>\n",
       "      <td>-0.012500</td>\n",
       "      <td>-0.022045</td>\n",
       "    </tr>\n",
       "    <tr>\n",
       "      <th>2024-11-30</th>\n",
       "      <td>-0.001484</td>\n",
       "      <td>-0.023617</td>\n",
       "      <td>-0.030468</td>\n",
       "      <td>-0.006852</td>\n",
       "      <td>0.012749</td>\n",
       "      <td>0.006513</td>\n",
       "      <td>0.036991</td>\n",
       "      <td>0.061256</td>\n",
       "      <td>0.019195</td>\n",
       "      <td>0.055937</td>\n",
       "      <td>0.001284</td>\n",
       "    </tr>\n",
       "    <tr>\n",
       "      <th>2024-12-31</th>\n",
       "      <td>-0.032324</td>\n",
       "      <td>0.011833</td>\n",
       "      <td>-0.013837</td>\n",
       "      <td>-0.029662</td>\n",
       "      <td>-0.012313</td>\n",
       "      <td>-0.023951</td>\n",
       "      <td>-0.090740</td>\n",
       "      <td>-0.054117</td>\n",
       "      <td>-0.016801</td>\n",
       "      <td>-0.020657</td>\n",
       "      <td>-0.017825</td>\n",
       "    </tr>\n",
       "  </tbody>\n",
       "</table>\n",
       "<p>119 rows × 11 columns</p>\n",
       "</div>"
      ],
      "text/plain": [
       "                 BWX       DBC       EEM       EFA       HYG       IEF  \\\n",
       "Date                                                                     \n",
       "2015-02-28 -0.011015  0.044071  0.043898  0.063196  0.022130 -0.024898   \n",
       "2015-03-31 -0.013831 -0.060448 -0.014882 -0.014195 -0.009387  0.008652   \n",
       "2015-04-30  0.019488  0.071380  0.068436  0.036375  0.008623 -0.006421   \n",
       "2015-05-31 -0.032312 -0.031711 -0.041045  0.001955  0.003555 -0.004164   \n",
       "2015-06-30 -0.007532  0.016284 -0.029399 -0.031273 -0.018962 -0.016400   \n",
       "...              ...       ...       ...       ...       ...       ...   \n",
       "2024-08-31  0.025540 -0.025794  0.004799  0.027624  0.010494  0.008478   \n",
       "2024-09-30  0.018898  0.002651  0.052827  0.003247  0.012385  0.009239   \n",
       "2024-10-31 -0.052073  0.010793 -0.034322 -0.056308 -0.013212 -0.037450   \n",
       "2024-11-30 -0.001484 -0.023617 -0.030468 -0.006852  0.012749  0.006513   \n",
       "2024-12-31 -0.032324  0.011833 -0.013837 -0.029662 -0.012313 -0.023951   \n",
       "\n",
       "                 IYR       PSP       QAI       SPY       TIP  \n",
       "Date                                                          \n",
       "2015-02-28 -0.026157  0.063921  0.033956  0.056023 -0.013067  \n",
       "2015-03-31  0.010836 -0.010363 -0.001576 -0.015615 -0.004728  \n",
       "2015-04-30 -0.048251  0.053891  0.001913  0.009743  0.006688  \n",
       "2015-05-31 -0.003311  0.026868 -0.000333  0.012856 -0.010056  \n",
       "2015-06-30 -0.044070 -0.019244 -0.013762 -0.020402 -0.010337  \n",
       "...              ...       ...       ...       ...       ...  \n",
       "2024-08-31  0.049029 -0.003754  0.002669  0.018386  0.003011  \n",
       "2024-09-30  0.026045  0.047032  0.009962  0.016419  0.010390  \n",
       "2024-10-31 -0.038523 -0.017355 -0.009499 -0.012500 -0.022045  \n",
       "2024-11-30  0.036991  0.061256  0.019195  0.055937  0.001284  \n",
       "2024-12-31 -0.090740 -0.054117 -0.016801 -0.020657 -0.017825  \n",
       "\n",
       "[119 rows x 11 columns]"
      ]
     },
     "execution_count": 14,
     "metadata": {},
     "output_type": "execute_result"
    }
   ],
   "source": [
    "xret_df"
   ]
  },
  {
   "cell_type": "code",
   "execution_count": 15,
   "id": "bc952568",
   "metadata": {},
   "outputs": [
    {
     "data": {
      "text/html": [
       "<div>\n",
       "<style scoped>\n",
       "    .dataframe tbody tr th:only-of-type {\n",
       "        vertical-align: middle;\n",
       "    }\n",
       "\n",
       "    .dataframe tbody tr th {\n",
       "        vertical-align: top;\n",
       "    }\n",
       "\n",
       "    .dataframe thead th {\n",
       "        text-align: right;\n",
       "    }\n",
       "</style>\n",
       "<table border=\"1\" class=\"dataframe\">\n",
       "  <thead>\n",
       "    <tr style=\"text-align: right;\">\n",
       "      <th></th>\n",
       "      <th>tangency weight</th>\n",
       "    </tr>\n",
       "  </thead>\n",
       "  <tbody>\n",
       "    <tr>\n",
       "      <th>SPY</th>\n",
       "      <td>0.791391</td>\n",
       "    </tr>\n",
       "    <tr>\n",
       "      <th>IEF</th>\n",
       "      <td>0.605326</td>\n",
       "    </tr>\n",
       "    <tr>\n",
       "      <th>EEM</th>\n",
       "      <td>0.174452</td>\n",
       "    </tr>\n",
       "    <tr>\n",
       "      <th>PSP</th>\n",
       "      <td>0.089959</td>\n",
       "    </tr>\n",
       "    <tr>\n",
       "      <th>DBC</th>\n",
       "      <td>0.074523</td>\n",
       "    </tr>\n",
       "    <tr>\n",
       "      <th>HYG</th>\n",
       "      <td>0.069143</td>\n",
       "    </tr>\n",
       "    <tr>\n",
       "      <th>IYR</th>\n",
       "      <td>-0.122423</td>\n",
       "    </tr>\n",
       "    <tr>\n",
       "      <th>BWX</th>\n",
       "      <td>-0.201433</td>\n",
       "    </tr>\n",
       "    <tr>\n",
       "      <th>EFA</th>\n",
       "      <td>-0.222207</td>\n",
       "    </tr>\n",
       "    <tr>\n",
       "      <th>TIP</th>\n",
       "      <td>-0.475295</td>\n",
       "    </tr>\n",
       "    <tr>\n",
       "      <th>QAI</th>\n",
       "      <td>-1.783436</td>\n",
       "    </tr>\n",
       "  </tbody>\n",
       "</table>\n",
       "</div>"
      ],
      "text/plain": [
       "     tangency weight\n",
       "SPY         0.791391\n",
       "IEF         0.605326\n",
       "EEM         0.174452\n",
       "PSP         0.089959\n",
       "DBC         0.074523\n",
       "HYG         0.069143\n",
       "IYR        -0.122423\n",
       "BWX        -0.201433\n",
       "EFA        -0.222207\n",
       "TIP        -0.475295\n",
       "QAI        -1.783436"
      ]
     },
     "execution_count": 15,
     "metadata": {},
     "output_type": "execute_result"
    }
   ],
   "source": [
    "tan_weights"
   ]
  },
  {
   "cell_type": "code",
   "execution_count": 13,
   "id": "4cb7f118",
   "metadata": {},
   "outputs": [
    {
     "data": {
      "text/plain": [
       "portfolio return    0.081833\n",
       "Name: Mean Xret, dtype: float64"
      ]
     },
     "metadata": {},
     "output_type": "display_data"
    },
    {
     "data": {
      "text/plain": [
       "portfolio return    0.050121\n",
       "Name: Vol, dtype: float64"
      ]
     },
     "metadata": {},
     "output_type": "display_data"
    },
    {
     "data": {
      "text/plain": [
       "portfolio return    1.632714\n",
       "Name: Sharpe Ratio, dtype: float64"
      ]
     },
     "metadata": {},
     "output_type": "display_data"
    }
   ],
   "source": [
    "port_dly_xret = xret_df.dot(tan_weights).rename(columns={'tangency weight':'portfolio return'})\n",
    "\n",
    "# mean\n",
    "port_mean_xret = port_dly_xret.mean() * SCALE \n",
    "port_mean_xret.name = 'Mean Xret'\n",
    "display(port_mean_xret)\n",
    "\n",
    "# vol\n",
    "port_vol = port_dly_xret.std() * np.sqrt(SCALE) \n",
    "port_vol.name = 'Vol'\n",
    "display(port_vol)\n",
    "\n",
    "# sharpe\n",
    "port_sharpe_ratio = (port_mean_xret / port_vol).rename('Sharpe Ratio')\n",
    "display(port_sharpe_ratio)"
   ]
  },
  {
   "cell_type": "markdown",
   "id": "29b1a4cc",
   "metadata": {},
   "source": [
    "### 4. TIPS\n",
    "Assess how much the tangency portfolio (and performance) change if...\n",
    "* TIPS are dropped completely from the investment set.\n",
    "* The expected excess monthly return to TIPS is adjusted to be `0.0012` higher than what the historic sample shows."
   ]
  },
  {
   "cell_type": "markdown",
   "id": "2220f0ab",
   "metadata": {},
   "source": [
    "# Without TIPS"
   ]
  },
  {
   "cell_type": "code",
   "execution_count": 61,
   "id": "42038e1b",
   "metadata": {},
   "outputs": [
    {
     "data": {
      "text/html": [
       "<div>\n",
       "<style scoped>\n",
       "    .dataframe tbody tr th:only-of-type {\n",
       "        vertical-align: middle;\n",
       "    }\n",
       "\n",
       "    .dataframe tbody tr th {\n",
       "        vertical-align: top;\n",
       "    }\n",
       "\n",
       "    .dataframe thead th {\n",
       "        text-align: right;\n",
       "    }\n",
       "</style>\n",
       "<table border=\"1\" class=\"dataframe\">\n",
       "  <thead>\n",
       "    <tr style=\"text-align: right;\">\n",
       "      <th></th>\n",
       "      <th>tangency weight</th>\n",
       "    </tr>\n",
       "  </thead>\n",
       "  <tbody>\n",
       "    <tr>\n",
       "      <th>SPY</th>\n",
       "      <td>0.877330</td>\n",
       "    </tr>\n",
       "    <tr>\n",
       "      <th>IEF</th>\n",
       "      <td>0.426192</td>\n",
       "    </tr>\n",
       "    <tr>\n",
       "      <th>EEM</th>\n",
       "      <td>0.200523</td>\n",
       "    </tr>\n",
       "    <tr>\n",
       "      <th>PSP</th>\n",
       "      <td>0.083367</td>\n",
       "    </tr>\n",
       "    <tr>\n",
       "      <th>DBC</th>\n",
       "      <td>0.058999</td>\n",
       "    </tr>\n",
       "    <tr>\n",
       "      <th>HYG</th>\n",
       "      <td>0.009447</td>\n",
       "    </tr>\n",
       "    <tr>\n",
       "      <th>IYR</th>\n",
       "      <td>-0.157013</td>\n",
       "    </tr>\n",
       "    <tr>\n",
       "      <th>EFA</th>\n",
       "      <td>-0.211726</td>\n",
       "    </tr>\n",
       "    <tr>\n",
       "      <th>BWX</th>\n",
       "      <td>-0.272248</td>\n",
       "    </tr>\n",
       "    <tr>\n",
       "      <th>QAI</th>\n",
       "      <td>-2.014872</td>\n",
       "    </tr>\n",
       "  </tbody>\n",
       "</table>\n",
       "</div>"
      ],
      "text/plain": [
       "     tangency weight\n",
       "SPY         0.877330\n",
       "IEF         0.426192\n",
       "EEM         0.200523\n",
       "PSP         0.083367\n",
       "DBC         0.058999\n",
       "HYG         0.009447\n",
       "IYR        -0.157013\n",
       "EFA        -0.211726\n",
       "BWX        -0.272248\n",
       "QAI        -2.014872"
      ]
     },
     "metadata": {},
     "output_type": "display_data"
    }
   ],
   "source": [
    "xret_ex_tips = xret_df.drop('TIP', axis=1)\n",
    "clean_xret_df = xret_ex_tips.dropna()\n",
    "scale_cov = 1\n",
    "\n",
    "covmat = clean_xret_df.cov()\n",
    "var = np.diag(np.diag(covmat))\n",
    "covmat = scale_cov * covmat + (1 - scale_cov) * var\n",
    "\n",
    "tan_weights = np.linalg.solve(covmat, clean_xret_df.mean())\n",
    "tan_weights = tan_weights / tan_weights.sum()\n",
    "\n",
    "tan_weights = pd.DataFrame(tan_weights, index=clean_xret_df.columns, columns=['tangency weight']).sort_values(by='tangency weight')\n",
    "if clean_xret_df.dot(tan_weights).sum().item() != 1:\n",
    "    tan_weights = -tan_weights\n",
    "\n",
    "display(tan_weights)"
   ]
  },
  {
   "cell_type": "code",
   "execution_count": 62,
   "id": "0cb219e4",
   "metadata": {},
   "outputs": [
    {
     "data": {
      "text/plain": [
       "<BarContainer object of 10 artists>"
      ]
     },
     "execution_count": 62,
     "metadata": {},
     "output_type": "execute_result"
    },
    {
     "data": {
      "image/png": "[encoded data removed]",
      "text/plain": [
       "<Figure size 640x480 with 1 Axes>"
      ]
     },
     "metadata": {},
     "output_type": "display_data"
    }
   ],
   "source": [
    "import matplotlib.pyplot as plt\n",
    "\n",
    "plt.bar(tan_weights.index, tan_weights['tangency weight'].to_list())"
   ]
  },
  {
   "cell_type": "code",
   "execution_count": 63,
   "id": "9a67373e",
   "metadata": {},
   "outputs": [
    {
     "data": {
      "text/plain": [
       "portfolio return    0.09275\n",
       "Name: Mean Xret, dtype: float64"
      ]
     },
     "metadata": {},
     "output_type": "display_data"
    },
    {
     "data": {
      "text/plain": [
       "portfolio return    0.057974\n",
       "Name: Vol, dtype: float64"
      ]
     },
     "metadata": {},
     "output_type": "display_data"
    },
    {
     "data": {
      "text/plain": [
       "portfolio return    1.59987\n",
       "Name: Sharpe Ratio, dtype: float64"
      ]
     },
     "metadata": {},
     "output_type": "display_data"
    }
   ],
   "source": [
    "port_dly_xret = xret_ex_tips.dot(tan_weights).rename(columns={'tangency weight':'portfolio return'})\n",
    "\n",
    "# mean\n",
    "port_mean_xret = port_dly_xret.mean() * SCALE \n",
    "port_mean_xret.name = 'Mean Xret'\n",
    "display(port_mean_xret)\n",
    "\n",
    "# vol\n",
    "port_vol = port_dly_xret.std() * np.sqrt(SCALE) \n",
    "port_vol.name = 'Vol'\n",
    "display(port_vol)\n",
    "\n",
    "# sharpe\n",
    "port_sharpe_ratio = (port_mean_xret / port_vol).rename('Sharpe Ratio')\n",
    "display(port_sharpe_ratio)"
   ]
  },
  {
   "cell_type": "markdown",
   "id": "f63ba17d",
   "metadata": {},
   "source": [
    "# Adjusted TIPS"
   ]
  },
  {
   "cell_type": "code",
   "execution_count": 65,
   "id": "05b9c14a",
   "metadata": {},
   "outputs": [
    {
     "data": {
      "text/html": [
       "<div>\n",
       "<style scoped>\n",
       "    .dataframe tbody tr th:only-of-type {\n",
       "        vertical-align: middle;\n",
       "    }\n",
       "\n",
       "    .dataframe tbody tr th {\n",
       "        vertical-align: top;\n",
       "    }\n",
       "\n",
       "    .dataframe thead th {\n",
       "        text-align: right;\n",
       "    }\n",
       "</style>\n",
       "<table border=\"1\" class=\"dataframe\">\n",
       "  <thead>\n",
       "    <tr style=\"text-align: right;\">\n",
       "      <th></th>\n",
       "      <th>tangency weight</th>\n",
       "    </tr>\n",
       "  </thead>\n",
       "  <tbody>\n",
       "    <tr>\n",
       "      <th>SPY</th>\n",
       "      <td>1.016540</td>\n",
       "    </tr>\n",
       "    <tr>\n",
       "      <th>TIP</th>\n",
       "      <td>0.769918</td>\n",
       "    </tr>\n",
       "    <tr>\n",
       "      <th>EEM</th>\n",
       "      <td>0.242755</td>\n",
       "    </tr>\n",
       "    <tr>\n",
       "      <th>IEF</th>\n",
       "      <td>0.136018</td>\n",
       "    </tr>\n",
       "    <tr>\n",
       "      <th>PSP</th>\n",
       "      <td>0.072688</td>\n",
       "    </tr>\n",
       "    <tr>\n",
       "      <th>DBC</th>\n",
       "      <td>0.033852</td>\n",
       "    </tr>\n",
       "    <tr>\n",
       "      <th>HYG</th>\n",
       "      <td>-0.087253</td>\n",
       "    </tr>\n",
       "    <tr>\n",
       "      <th>EFA</th>\n",
       "      <td>-0.194747</td>\n",
       "    </tr>\n",
       "    <tr>\n",
       "      <th>IYR</th>\n",
       "      <td>-0.213044</td>\n",
       "    </tr>\n",
       "    <tr>\n",
       "      <th>BWX</th>\n",
       "      <td>-0.386958</td>\n",
       "    </tr>\n",
       "    <tr>\n",
       "      <th>QAI</th>\n",
       "      <td>-2.389769</td>\n",
       "    </tr>\n",
       "  </tbody>\n",
       "</table>\n",
       "</div>"
      ],
      "text/plain": [
       "     tangency weight\n",
       "SPY         1.016540\n",
       "TIP         0.769918\n",
       "EEM         0.242755\n",
       "IEF         0.136018\n",
       "PSP         0.072688\n",
       "DBC         0.033852\n",
       "HYG        -0.087253\n",
       "EFA        -0.194747\n",
       "IYR        -0.213044\n",
       "BWX        -0.386958\n",
       "QAI        -2.389769"
      ]
     },
     "execution_count": 65,
     "metadata": {},
     "output_type": "execute_result"
    }
   ],
   "source": [
    "xret_adj_tips = xret_df.copy()\n",
    "xret_adj_tips['TIP'] = xret_adj_tips['TIP'] + 0.0012\n",
    "clean_xret_df = xret_adj_tips.dropna()\n",
    "scale_cov = 1\n",
    "\n",
    "covmat = clean_xret_df.cov()\n",
    "var = np.diag(np.diag(covmat))\n",
    "covmat = scale_cov * covmat + (1 - scale_cov) * var\n",
    "\n",
    "tan_weights = np.linalg.solve(covmat, clean_xret_df.mean())\n",
    "tan_weights = tan_weights / tan_weights.sum()\n",
    "\n",
    "tan_weights = pd.DataFrame(tan_weights, index=clean_xret_df.columns, columns=['tangency weight']).sort_values(by='tangency weight')\n",
    "if clean_xret_df.dot(tan_weights).sum().item() != 1:\n",
    "    tan_weights = -tan_weights\n",
    "\n",
    "tan_weights"
   ]
  },
  {
   "cell_type": "code",
   "execution_count": 66,
   "id": "85697ca2",
   "metadata": {},
   "outputs": [
    {
     "data": {
      "text/plain": [
       "portfolio return    0.121522\n",
       "Name: Mean Xret, dtype: float64"
      ]
     },
     "metadata": {},
     "output_type": "display_data"
    },
    {
     "data": {
      "text/plain": [
       "portfolio return    0.07412\n",
       "Name: Vol, dtype: float64"
      ]
     },
     "metadata": {},
     "output_type": "display_data"
    },
    {
     "data": {
      "text/plain": [
       "portfolio return    1.639523\n",
       "Name: Sharpe Ratio, dtype: float64"
      ]
     },
     "metadata": {},
     "output_type": "display_data"
    }
   ],
   "source": [
    "port_dly_xret = xret_adj_tips.dot(tan_weights).rename(columns={'tangency weight':'portfolio return'})\n",
    "\n",
    "# mean\n",
    "port_mean_xret = port_dly_xret.mean() * SCALE \n",
    "port_mean_xret.name = 'Mean Xret'\n",
    "display(port_mean_xret)\n",
    "\n",
    "# vol\n",
    "port_vol = port_dly_xret.std() * np.sqrt(SCALE) \n",
    "port_vol.name = 'Vol'\n",
    "display(port_vol)\n",
    "\n",
    "# sharpe\n",
    "port_sharpe_ratio = (port_mean_xret / port_vol).rename('Sharpe Ratio')\n",
    "display(port_sharpe_ratio)"
   ]
  },
  {
   "cell_type": "markdown",
   "id": "3793ead1",
   "metadata": {},
   "source": [
    "### 5. Bounds\n",
    "\n",
    "Classically, allocators placed bounds on the portfolio rather than implementing whatever numbers come out of the Mean-Variance optimization problem.\n",
    "\n",
    "What are the pros and cons of using these extra constraints?"
   ]
  },
  {
   "cell_type": "markdown",
   "id": "9c3ba3a3",
   "metadata": {},
   "source": [
    "Pros:\n",
    "- We can \"stabilize\" the optmization and attempt to control the optimizer by disregarding irrealistic/undesireale outcomes\n",
    "\n",
    "Cons:\n",
    "- Our solution is extremely reliant and sensitive to the constraints we place on our problem."
   ]
  },
  {
   "cell_type": "markdown",
   "id": "a8609d16",
   "metadata": {},
   "source": [
    "***"
   ]
  }
 ],
 "metadata": {
  "hide_input": false,
  "kernelspec": {
   "display_name": "quant",
   "language": "python",
   "name": "python3"
  },
  "language_info": {
   "codemirror_mode": {
    "name": "ipython",
    "version": 3
   },
   "file_extension": ".py",
   "mimetype": "text/x-python",
   "name": "python",
   "nbconvert_exporter": "python",
   "pygments_lexer": "ipython3",
   "version": "3.12.4"
  }
 },
 "nbformat": 4,
 "nbformat_minor": 5
}
