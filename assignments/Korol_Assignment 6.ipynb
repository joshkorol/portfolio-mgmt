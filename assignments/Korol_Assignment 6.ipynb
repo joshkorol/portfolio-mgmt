{
 "cells": [
  {
   "cell_type": "markdown",
   "metadata": {},
   "source": [
    "# <span style=\"color:red\">6. Assignment\n",
    "</span>\n",
    "\n",
    "## Portfolio Management\n",
    "### MLP Training\n",
    "\n",
    "#### January 2025\n",
    "\n",
    "Questions?\n",
    "* Contact: Mark Hendricks\n",
    "* hendricks@uchicago.edu"
   ]
  },
  {
   "cell_type": "markdown",
   "metadata": {},
   "source": [
    "***"
   ]
  },
  {
   "cell_type": "markdown",
   "metadata": {
    "jp-MarkdownHeadingCollapsed": true
   },
   "source": [
    "# 1. Timing"
   ]
  },
  {
   "cell_type": "markdown",
   "metadata": {},
   "source": [
    "### 1.1. \n",
    "\n",
    "Use the data found in `mkt_timing_data.xlsx`.\n",
    "\n",
    "Construct an investment strategy where you go long `SPY` (100%) at any time where the earnings-price ratio (E/P) is above `4.5%`. When the ratio is below this level, you are long Tbills (100%) and earning `US3M`.\n",
    "\n",
    "Report the following statsitics in a table where the first column is `SPY` and the second column is your strategy,\n",
    "* mean\n",
    "* vol\n",
    "* Sharpe\n",
    "\n",
    "Also report the correlation between your strategy and `SPY`."
   ]
  },
  {
   "cell_type": "markdown",
   "metadata": {},
   "source": [
    "### 1.2.\n",
    "\n",
    "Re-do the previous problem, but instead of setting the weights to 100% and 0%, set the weights to be...\n",
    "\n",
    "$$w_t = -0.8 + 30x_t$$"
   ]
  },
  {
   "cell_type": "markdown",
   "metadata": {},
   "source": [
    "### 1.3.\n",
    "\n",
    "Run a regression to understand the relationship between `E/P` at time $t$ and the subsequent return in `SPY`. That is, estimate $\\beta$ in \n",
    "\n",
    "$$r_{SPY,t+1} = \\alpha + \\beta x_t + \\epsilon_{t+1}$$\n",
    "\n",
    "where $x$ is the E/P ratio.\n",
    "\n",
    "Report the estimated $\\beta$ and r-squared. What do you conclude about the statistical relationship?"
   ]
  },
  {
   "cell_type": "markdown",
   "metadata": {},
   "source": [
    "***"
   ]
  }
 ],
 "metadata": {
  "kernelspec": {
   "display_name": "Python 3 (ipykernel)",
   "language": "python",
   "name": "python3"
  },
  "language_info": {
   "codemirror_mode": {
    "name": "ipython",
    "version": 3
   },
   "file_extension": ".py",
   "mimetype": "text/x-python",
   "name": "python",
   "nbconvert_exporter": "python",
   "pygments_lexer": "ipython3",
   "version": "3.9.6"
  }
 },
 "nbformat": 4,
 "nbformat_minor": 4
}
