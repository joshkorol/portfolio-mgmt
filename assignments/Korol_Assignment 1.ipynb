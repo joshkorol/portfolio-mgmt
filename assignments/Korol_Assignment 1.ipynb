{
 "cells": [
  {
   "cell_type": "markdown",
   "id": "a97c4251",
   "metadata": {},
   "source": [
    "# 1. Assignment\n",
    "\n",
    "## Portfolio Management\n",
    "### MLP Training\n",
    "\n",
    "#### January 2025\n",
    "\n",
    "Questions?\n",
    "* Contact: Mark Hendricks\n",
    "* hendricks@uchicago.edu"
   ]
  },
  {
   "cell_type": "markdown",
   "id": "cbb624b4",
   "metadata": {},
   "source": [
    "***"
   ]
  },
  {
   "cell_type": "markdown",
   "id": "31dfdadc",
   "metadata": {},
   "source": [
    "# 1. Risk"
   ]
  },
  {
   "cell_type": "markdown",
   "id": "77eafffb",
   "metadata": {},
   "source": [
    "### 1. \n",
    "Suppose you are a large asset manager, running many strategies.\n",
    "\n",
    "A new strategy is proposed for your investment. Which performance metrics would be most influential to you as you decide on an allocation?"
   ]
  },
  {
   "cell_type": "markdown",
   "id": "36bd2f21",
   "metadata": {},
   "source": [
    "- Correlation between the new strategy and my current strategies\n",
    "- Sharpe ratio of the new strategy\n",
    "- Expected Return of the strategys\n",
    "- Skewness (is it positive or negative? Does this behavior align with my current strategy?)"
   ]
  },
  {
   "cell_type": "markdown",
   "id": "291dee0a",
   "metadata": {},
   "source": [
    "\n",
    "### 2.\n",
    "Consider the data in `data/assignment_1_data.xlsx`. For each stock, calculate the (annualized)\n",
    "* mean\n",
    "* vol\n",
    "* sharpe\n",
    "\n",
    "Calculate those same statistics for...\n",
    "* equally-weighted portfolio of the stocks\n",
    "* equallly-weighted portfolio excluding `XOM`.\n"
   ]
  },
  {
   "cell_type": "code",
   "execution_count": 31,
   "id": "0e7832c3",
   "metadata": {},
   "outputs": [
    {
     "data": {
      "text/html": [
       "<div>\n",
       "<style scoped>\n",
       "    .dataframe tbody tr th:only-of-type {\n",
       "        vertical-align: middle;\n",
       "    }\n",
       "\n",
       "    .dataframe tbody tr th {\n",
       "        vertical-align: top;\n",
       "    }\n",
       "\n",
       "    .dataframe thead th {\n",
       "        text-align: right;\n",
       "    }\n",
       "</style>\n",
       "<table border=\"1\" class=\"dataframe\">\n",
       "  <thead>\n",
       "    <tr style=\"text-align: right;\">\n",
       "      <th></th>\n",
       "      <th>AAPL</th>\n",
       "      <th>MSFT</th>\n",
       "      <th>AMZN</th>\n",
       "      <th>NVDA</th>\n",
       "      <th>GOOGL</th>\n",
       "      <th>TSLA</th>\n",
       "      <th>XOM</th>\n",
       "    </tr>\n",
       "    <tr>\n",
       "      <th>date</th>\n",
       "      <th></th>\n",
       "      <th></th>\n",
       "      <th></th>\n",
       "      <th></th>\n",
       "      <th></th>\n",
       "      <th></th>\n",
       "      <th></th>\n",
       "    </tr>\n",
       "  </thead>\n",
       "  <tbody>\n",
       "    <tr>\n",
       "      <th>2015-01-09</th>\n",
       "      <td>0.010989</td>\n",
       "      <td>-0.004322</td>\n",
       "      <td>-0.051051</td>\n",
       "      <td>-0.022830</td>\n",
       "      <td>-0.067966</td>\n",
       "      <td>-0.071202</td>\n",
       "      <td>-0.021381</td>\n",
       "    </tr>\n",
       "    <tr>\n",
       "      <th>2015-01-16</th>\n",
       "      <td>-0.063909</td>\n",
       "      <td>-0.030319</td>\n",
       "      <td>-0.031068</td>\n",
       "      <td>-0.009144</td>\n",
       "      <td>0.009286</td>\n",
       "      <td>-0.075949</td>\n",
       "      <td>-0.020829</td>\n",
       "    </tr>\n",
       "    <tr>\n",
       "      <th>2015-01-23</th>\n",
       "      <td>0.064384</td>\n",
       "      <td>0.018769</td>\n",
       "      <td>0.072872</td>\n",
       "      <td>0.036004</td>\n",
       "      <td>0.060103</td>\n",
       "      <td>0.041017</td>\n",
       "      <td>-0.004083</td>\n",
       "    </tr>\n",
       "    <tr>\n",
       "      <th>2015-01-30</th>\n",
       "      <td>0.025008</td>\n",
       "      <td>-0.155696</td>\n",
       "      <td>0.122909</td>\n",
       "      <td>-0.084799</td>\n",
       "      <td>-0.020083</td>\n",
       "      <td>-0.000515</td>\n",
       "      <td>-0.050170</td>\n",
       "    </tr>\n",
       "    <tr>\n",
       "      <th>2015-02-06</th>\n",
       "      <td>0.041844</td>\n",
       "      <td>0.072475</td>\n",
       "      <td>0.078461</td>\n",
       "      <td>0.084980</td>\n",
       "      <td>0.015870</td>\n",
       "      <td>0.090312</td>\n",
       "      <td>0.077273</td>\n",
       "    </tr>\n",
       "  </tbody>\n",
       "</table>\n",
       "</div>"
      ],
      "text/plain": [
       "                AAPL      MSFT      AMZN      NVDA     GOOGL      TSLA  \\\n",
       "date                                                                     \n",
       "2015-01-09  0.010989 -0.004322 -0.051051 -0.022830 -0.067966 -0.071202   \n",
       "2015-01-16 -0.063909 -0.030319 -0.031068 -0.009144  0.009286 -0.075949   \n",
       "2015-01-23  0.064384  0.018769  0.072872  0.036004  0.060103  0.041017   \n",
       "2015-01-30  0.025008 -0.155696  0.122909 -0.084799 -0.020083 -0.000515   \n",
       "2015-02-06  0.041844  0.072475  0.078461  0.084980  0.015870  0.090312   \n",
       "\n",
       "                 XOM  \n",
       "date                  \n",
       "2015-01-09 -0.021381  \n",
       "2015-01-16 -0.020829  \n",
       "2015-01-23 -0.004083  \n",
       "2015-01-30 -0.050170  \n",
       "2015-02-06  0.077273  "
      ]
     },
     "metadata": {},
     "output_type": "display_data"
    },
    {
     "data": {
      "text/html": [
       "<div>\n",
       "<style scoped>\n",
       "    .dataframe tbody tr th:only-of-type {\n",
       "        vertical-align: middle;\n",
       "    }\n",
       "\n",
       "    .dataframe tbody tr th {\n",
       "        vertical-align: top;\n",
       "    }\n",
       "\n",
       "    .dataframe thead th {\n",
       "        text-align: right;\n",
       "    }\n",
       "</style>\n",
       "<table border=\"1\" class=\"dataframe\">\n",
       "  <thead>\n",
       "    <tr style=\"text-align: right;\">\n",
       "      <th></th>\n",
       "      <th>SPY</th>\n",
       "    </tr>\n",
       "    <tr>\n",
       "      <th>date</th>\n",
       "      <th></th>\n",
       "    </tr>\n",
       "  </thead>\n",
       "  <tbody>\n",
       "    <tr>\n",
       "      <th>2015-01-09</th>\n",
       "      <td>-0.019261</td>\n",
       "    </tr>\n",
       "    <tr>\n",
       "      <th>2015-01-16</th>\n",
       "      <td>-0.023016</td>\n",
       "    </tr>\n",
       "    <tr>\n",
       "      <th>2015-01-23</th>\n",
       "      <td>0.015006</td>\n",
       "    </tr>\n",
       "    <tr>\n",
       "      <th>2015-01-30</th>\n",
       "      <td>-0.038922</td>\n",
       "    </tr>\n",
       "    <tr>\n",
       "      <th>2015-02-06</th>\n",
       "      <td>0.053308</td>\n",
       "    </tr>\n",
       "  </tbody>\n",
       "</table>\n",
       "</div>"
      ],
      "text/plain": [
       "                 SPY\n",
       "date                \n",
       "2015-01-09 -0.019261\n",
       "2015-01-16 -0.023016\n",
       "2015-01-23  0.015006\n",
       "2015-01-30 -0.038922\n",
       "2015-02-06  0.053308"
      ]
     },
     "metadata": {},
     "output_type": "display_data"
    }
   ],
   "source": [
    "import pandas as pd\n",
    "import numpy as np\n",
    "\n",
    "path = '../data/assignment_1_data.xlsx'\n",
    "sec_df = pd.read_excel(path).set_index('ticker')\n",
    "xret_df = pd.read_excel(path, 'excess returns').set_index('date')\n",
    "spy_df = pd.read_excel(path, 'spy').set_index('date')\n",
    "SCALE = 52\n",
    "\n",
    "display(xret_df.head())\n",
    "display(spy_df.head())\n"
   ]
  },
  {
   "cell_type": "markdown",
   "id": "ab762d7e",
   "metadata": {},
   "source": [
    "## Mean Xret"
   ]
  },
  {
   "cell_type": "code",
   "execution_count": 9,
   "id": "938f622a",
   "metadata": {},
   "outputs": [
    {
     "data": {
      "text/plain": [
       "AAPL     0.264010\n",
       "MSFT     0.273016\n",
       "AMZN     0.302677\n",
       "NVDA     0.678099\n",
       "GOOGL    0.232592\n",
       "TSLA     0.452013\n",
       "XOM      0.094151\n",
       "dtype: float64"
      ]
     },
     "metadata": {},
     "output_type": "display_data"
    }
   ],
   "source": [
    "mean_xret = xret_df.mean() * SCALE\n",
    "display(mean_xret)"
   ]
  },
  {
   "cell_type": "markdown",
   "id": "fbb5f73c",
   "metadata": {},
   "source": [
    "## Vol"
   ]
  },
  {
   "cell_type": "code",
   "execution_count": 10,
   "id": "68e2e96f",
   "metadata": {},
   "outputs": [
    {
     "data": {
      "text/plain": [
       "AAPL     0.281820\n",
       "MSFT     0.245809\n",
       "AMZN     0.308214\n",
       "NVDA     0.456552\n",
       "GOOGL    0.287975\n",
       "TSLA     0.584168\n",
       "XOM      0.296208\n",
       "dtype: float64"
      ]
     },
     "metadata": {},
     "output_type": "display_data"
    }
   ],
   "source": [
    "vol = xret_df.std() * np.sqrt(SCALE)\n",
    "display(vol)"
   ]
  },
  {
   "cell_type": "markdown",
   "id": "d990140a",
   "metadata": {},
   "source": [
    "## Sharpe Ratio"
   ]
  },
  {
   "cell_type": "code",
   "execution_count": 11,
   "id": "680814d1",
   "metadata": {},
   "outputs": [
    {
     "data": {
      "text/plain": [
       "AAPL     0.936802\n",
       "MSFT     1.110681\n",
       "AMZN     0.982034\n",
       "NVDA     1.485262\n",
       "GOOGL    0.807680\n",
       "TSLA     0.773773\n",
       "XOM      0.317856\n",
       "dtype: float64"
      ]
     },
     "metadata": {},
     "output_type": "display_data"
    }
   ],
   "source": [
    "sharpe_ratio = mean_xret / vol\n",
    "display(sharpe_ratio)"
   ]
  },
  {
   "cell_type": "markdown",
   "id": "669387c8",
   "metadata": {},
   "source": [
    "# Portfolio Of Securities"
   ]
  },
  {
   "cell_type": "code",
   "execution_count": 17,
   "id": "8dc57624",
   "metadata": {},
   "outputs": [
    {
     "data": {
      "text/html": [
       "<div>\n",
       "<style scoped>\n",
       "    .dataframe tbody tr th:only-of-type {\n",
       "        vertical-align: middle;\n",
       "    }\n",
       "\n",
       "    .dataframe tbody tr th {\n",
       "        vertical-align: top;\n",
       "    }\n",
       "\n",
       "    .dataframe thead th {\n",
       "        text-align: right;\n",
       "    }\n",
       "</style>\n",
       "<table border=\"1\" class=\"dataframe\">\n",
       "  <thead>\n",
       "    <tr style=\"text-align: right;\">\n",
       "      <th></th>\n",
       "      <th>AAPL</th>\n",
       "      <th>MSFT</th>\n",
       "      <th>AMZN</th>\n",
       "      <th>NVDA</th>\n",
       "      <th>GOOGL</th>\n",
       "      <th>TSLA</th>\n",
       "      <th>XOM</th>\n",
       "    </tr>\n",
       "    <tr>\n",
       "      <th>date</th>\n",
       "      <th></th>\n",
       "      <th></th>\n",
       "      <th></th>\n",
       "      <th></th>\n",
       "      <th></th>\n",
       "      <th></th>\n",
       "      <th></th>\n",
       "    </tr>\n",
       "  </thead>\n",
       "  <tbody>\n",
       "    <tr>\n",
       "      <th>2015-01-09</th>\n",
       "      <td>0.010989</td>\n",
       "      <td>-0.004322</td>\n",
       "      <td>-0.051051</td>\n",
       "      <td>-0.022830</td>\n",
       "      <td>-0.067966</td>\n",
       "      <td>-0.071202</td>\n",
       "      <td>-0.021381</td>\n",
       "    </tr>\n",
       "    <tr>\n",
       "      <th>2015-01-16</th>\n",
       "      <td>-0.063909</td>\n",
       "      <td>-0.030319</td>\n",
       "      <td>-0.031068</td>\n",
       "      <td>-0.009144</td>\n",
       "      <td>0.009286</td>\n",
       "      <td>-0.075949</td>\n",
       "      <td>-0.020829</td>\n",
       "    </tr>\n",
       "    <tr>\n",
       "      <th>2015-01-23</th>\n",
       "      <td>0.064384</td>\n",
       "      <td>0.018769</td>\n",
       "      <td>0.072872</td>\n",
       "      <td>0.036004</td>\n",
       "      <td>0.060103</td>\n",
       "      <td>0.041017</td>\n",
       "      <td>-0.004083</td>\n",
       "    </tr>\n",
       "    <tr>\n",
       "      <th>2015-01-30</th>\n",
       "      <td>0.025008</td>\n",
       "      <td>-0.155696</td>\n",
       "      <td>0.122909</td>\n",
       "      <td>-0.084799</td>\n",
       "      <td>-0.020083</td>\n",
       "      <td>-0.000515</td>\n",
       "      <td>-0.050170</td>\n",
       "    </tr>\n",
       "    <tr>\n",
       "      <th>2015-02-06</th>\n",
       "      <td>0.041844</td>\n",
       "      <td>0.072475</td>\n",
       "      <td>0.078461</td>\n",
       "      <td>0.084980</td>\n",
       "      <td>0.015870</td>\n",
       "      <td>0.090312</td>\n",
       "      <td>0.077273</td>\n",
       "    </tr>\n",
       "    <tr>\n",
       "      <th>...</th>\n",
       "      <td>...</td>\n",
       "      <td>...</td>\n",
       "      <td>...</td>\n",
       "      <td>...</td>\n",
       "      <td>...</td>\n",
       "      <td>...</td>\n",
       "      <td>...</td>\n",
       "    </tr>\n",
       "    <tr>\n",
       "      <th>2024-06-14</th>\n",
       "      <td>0.061481</td>\n",
       "      <td>0.026416</td>\n",
       "      <td>-0.021223</td>\n",
       "      <td>0.073266</td>\n",
       "      <td>-0.003232</td>\n",
       "      <td>-0.014764</td>\n",
       "      <td>-0.050034</td>\n",
       "    </tr>\n",
       "    <tr>\n",
       "      <th>2024-06-21</th>\n",
       "      <td>-0.020888</td>\n",
       "      <td>0.018934</td>\n",
       "      <td>0.032153</td>\n",
       "      <td>-0.037622</td>\n",
       "      <td>0.018707</td>\n",
       "      <td>0.030731</td>\n",
       "      <td>0.017765</td>\n",
       "    </tr>\n",
       "    <tr>\n",
       "      <th>2024-06-28</th>\n",
       "      <td>0.022505</td>\n",
       "      <td>0.001128</td>\n",
       "      <td>0.029474</td>\n",
       "      <td>-0.016520</td>\n",
       "      <td>0.021448</td>\n",
       "      <td>0.088672</td>\n",
       "      <td>0.046784</td>\n",
       "    </tr>\n",
       "    <tr>\n",
       "      <th>2024-07-05</th>\n",
       "      <td>0.066121</td>\n",
       "      <td>0.037596</td>\n",
       "      <td>0.026413</td>\n",
       "      <td>0.010020</td>\n",
       "      <td>0.037874</td>\n",
       "      <td>0.262557</td>\n",
       "      <td>-0.023718</td>\n",
       "    </tr>\n",
       "    <tr>\n",
       "      <th>2024-07-12</th>\n",
       "      <td>0.010166</td>\n",
       "      <td>-0.038354</td>\n",
       "      <td>-0.035940</td>\n",
       "      <td>0.018710</td>\n",
       "      <td>-0.037404</td>\n",
       "      <td>-0.021470</td>\n",
       "      <td>-0.009272</td>\n",
       "    </tr>\n",
       "  </tbody>\n",
       "</table>\n",
       "<p>497 rows × 7 columns</p>\n",
       "</div>"
      ],
      "text/plain": [
       "                AAPL      MSFT      AMZN      NVDA     GOOGL      TSLA  \\\n",
       "date                                                                     \n",
       "2015-01-09  0.010989 -0.004322 -0.051051 -0.022830 -0.067966 -0.071202   \n",
       "2015-01-16 -0.063909 -0.030319 -0.031068 -0.009144  0.009286 -0.075949   \n",
       "2015-01-23  0.064384  0.018769  0.072872  0.036004  0.060103  0.041017   \n",
       "2015-01-30  0.025008 -0.155696  0.122909 -0.084799 -0.020083 -0.000515   \n",
       "2015-02-06  0.041844  0.072475  0.078461  0.084980  0.015870  0.090312   \n",
       "...              ...       ...       ...       ...       ...       ...   \n",
       "2024-06-14  0.061481  0.026416 -0.021223  0.073266 -0.003232 -0.014764   \n",
       "2024-06-21 -0.020888  0.018934  0.032153 -0.037622  0.018707  0.030731   \n",
       "2024-06-28  0.022505  0.001128  0.029474 -0.016520  0.021448  0.088672   \n",
       "2024-07-05  0.066121  0.037596  0.026413  0.010020  0.037874  0.262557   \n",
       "2024-07-12  0.010166 -0.038354 -0.035940  0.018710 -0.037404 -0.021470   \n",
       "\n",
       "                 XOM  \n",
       "date                  \n",
       "2015-01-09 -0.021381  \n",
       "2015-01-16 -0.020829  \n",
       "2015-01-23 -0.004083  \n",
       "2015-01-30 -0.050170  \n",
       "2015-02-06  0.077273  \n",
       "...              ...  \n",
       "2024-06-14 -0.050034  \n",
       "2024-06-21  0.017765  \n",
       "2024-06-28  0.046784  \n",
       "2024-07-05 -0.023718  \n",
       "2024-07-12 -0.009272  \n",
       "\n",
       "[497 rows x 7 columns]"
      ]
     },
     "execution_count": 17,
     "metadata": {},
     "output_type": "execute_result"
    }
   ],
   "source": [
    "xret_df"
   ]
  },
  {
   "cell_type": "markdown",
   "id": "79088d04",
   "metadata": {},
   "source": [
    "## Equally weigh excess returns"
   ]
  },
  {
   "cell_type": "code",
   "execution_count": 33,
   "id": "199c7115",
   "metadata": {},
   "outputs": [
    {
     "data": {
      "text/html": [
       "<div>\n",
       "<style scoped>\n",
       "    .dataframe tbody tr th:only-of-type {\n",
       "        vertical-align: middle;\n",
       "    }\n",
       "\n",
       "    .dataframe tbody tr th {\n",
       "        vertical-align: top;\n",
       "    }\n",
       "\n",
       "    .dataframe thead th {\n",
       "        text-align: right;\n",
       "    }\n",
       "</style>\n",
       "<table border=\"1\" class=\"dataframe\">\n",
       "  <thead>\n",
       "    <tr style=\"text-align: right;\">\n",
       "      <th></th>\n",
       "      <th>port return</th>\n",
       "    </tr>\n",
       "    <tr>\n",
       "      <th>date</th>\n",
       "      <th></th>\n",
       "    </tr>\n",
       "  </thead>\n",
       "  <tbody>\n",
       "    <tr>\n",
       "      <th>2015-01-09</th>\n",
       "      <td>-0.032538</td>\n",
       "    </tr>\n",
       "    <tr>\n",
       "      <th>2015-01-16</th>\n",
       "      <td>-0.031705</td>\n",
       "    </tr>\n",
       "    <tr>\n",
       "      <th>2015-01-23</th>\n",
       "      <td>0.041295</td>\n",
       "    </tr>\n",
       "    <tr>\n",
       "      <th>2015-01-30</th>\n",
       "      <td>-0.023335</td>\n",
       "    </tr>\n",
       "    <tr>\n",
       "      <th>2015-02-06</th>\n",
       "      <td>0.065888</td>\n",
       "    </tr>\n",
       "    <tr>\n",
       "      <th>...</th>\n",
       "      <td>...</td>\n",
       "    </tr>\n",
       "    <tr>\n",
       "      <th>2024-06-14</th>\n",
       "      <td>0.010273</td>\n",
       "    </tr>\n",
       "    <tr>\n",
       "      <th>2024-06-21</th>\n",
       "      <td>0.008540</td>\n",
       "    </tr>\n",
       "    <tr>\n",
       "      <th>2024-06-28</th>\n",
       "      <td>0.027641</td>\n",
       "    </tr>\n",
       "    <tr>\n",
       "      <th>2024-07-05</th>\n",
       "      <td>0.059552</td>\n",
       "    </tr>\n",
       "    <tr>\n",
       "      <th>2024-07-12</th>\n",
       "      <td>-0.016223</td>\n",
       "    </tr>\n",
       "  </tbody>\n",
       "</table>\n",
       "<p>497 rows × 1 columns</p>\n",
       "</div>"
      ],
      "text/plain": [
       "            port return\n",
       "date                   \n",
       "2015-01-09    -0.032538\n",
       "2015-01-16    -0.031705\n",
       "2015-01-23     0.041295\n",
       "2015-01-30    -0.023335\n",
       "2015-02-06     0.065888\n",
       "...                 ...\n",
       "2024-06-14     0.010273\n",
       "2024-06-21     0.008540\n",
       "2024-06-28     0.027641\n",
       "2024-07-05     0.059552\n",
       "2024-07-12    -0.016223\n",
       "\n",
       "[497 rows x 1 columns]"
      ]
     },
     "metadata": {},
     "output_type": "display_data"
    }
   ],
   "source": [
    "n = sec_df.shape[0]\n",
    "WEIGHT = 1 / n\n",
    "\n",
    "position = pd.DataFrame(data=[WEIGHT] * n, index=sec_df.index)\n",
    "port_dly_xret_df = xret_df.dot(position).rename(columns={0:'port return'})\n",
    "display(port_dly_xret_df)"
   ]
  },
  {
   "cell_type": "code",
   "execution_count": 38,
   "id": "5e86e3ce",
   "metadata": {},
   "outputs": [
    {
     "data": {
      "text/html": [
       "<div>\n",
       "<style scoped>\n",
       "    .dataframe tbody tr th:only-of-type {\n",
       "        vertical-align: middle;\n",
       "    }\n",
       "\n",
       "    .dataframe tbody tr th {\n",
       "        vertical-align: top;\n",
       "    }\n",
       "\n",
       "    .dataframe thead th {\n",
       "        text-align: right;\n",
       "    }\n",
       "</style>\n",
       "<table border=\"1\" class=\"dataframe\">\n",
       "  <thead>\n",
       "    <tr style=\"text-align: right;\">\n",
       "      <th></th>\n",
       "      <th>port return</th>\n",
       "    </tr>\n",
       "    <tr>\n",
       "      <th>date</th>\n",
       "      <th></th>\n",
       "    </tr>\n",
       "  </thead>\n",
       "  <tbody>\n",
       "    <tr>\n",
       "      <th>2015-01-09</th>\n",
       "      <td>-0.032538</td>\n",
       "    </tr>\n",
       "    <tr>\n",
       "      <th>2015-01-16</th>\n",
       "      <td>-0.031705</td>\n",
       "    </tr>\n",
       "    <tr>\n",
       "      <th>2015-01-23</th>\n",
       "      <td>0.041295</td>\n",
       "    </tr>\n",
       "    <tr>\n",
       "      <th>2015-01-30</th>\n",
       "      <td>-0.023335</td>\n",
       "    </tr>\n",
       "    <tr>\n",
       "      <th>2015-02-06</th>\n",
       "      <td>0.065888</td>\n",
       "    </tr>\n",
       "    <tr>\n",
       "      <th>...</th>\n",
       "      <td>...</td>\n",
       "    </tr>\n",
       "    <tr>\n",
       "      <th>2024-06-14</th>\n",
       "      <td>0.010273</td>\n",
       "    </tr>\n",
       "    <tr>\n",
       "      <th>2024-06-21</th>\n",
       "      <td>0.008540</td>\n",
       "    </tr>\n",
       "    <tr>\n",
       "      <th>2024-06-28</th>\n",
       "      <td>0.027641</td>\n",
       "    </tr>\n",
       "    <tr>\n",
       "      <th>2024-07-05</th>\n",
       "      <td>0.059552</td>\n",
       "    </tr>\n",
       "    <tr>\n",
       "      <th>2024-07-12</th>\n",
       "      <td>-0.016223</td>\n",
       "    </tr>\n",
       "  </tbody>\n",
       "</table>\n",
       "<p>497 rows × 1 columns</p>\n",
       "</div>"
      ],
      "text/plain": [
       "            port return\n",
       "date                   \n",
       "2015-01-09    -0.032538\n",
       "2015-01-16    -0.031705\n",
       "2015-01-23     0.041295\n",
       "2015-01-30    -0.023335\n",
       "2015-02-06     0.065888\n",
       "...                 ...\n",
       "2024-06-14     0.010273\n",
       "2024-06-21     0.008540\n",
       "2024-06-28     0.027641\n",
       "2024-07-05     0.059552\n",
       "2024-07-12    -0.016223\n",
       "\n",
       "[497 rows x 1 columns]"
      ]
     },
     "metadata": {},
     "output_type": "display_data"
    },
    {
     "data": {
      "text/plain": [
       "port return    0.32808\n",
       "Name: port mean xret, dtype: float64"
      ]
     },
     "metadata": {},
     "output_type": "display_data"
    },
    {
     "data": {
      "text/plain": [
       "port return    0.253437\n",
       "Name: port vol, dtype: float64"
      ]
     },
     "metadata": {},
     "output_type": "display_data"
    },
    {
     "data": {
      "text/plain": [
       "port return    1.294523\n",
       "Name: port sharpe ratio, dtype: float64"
      ]
     },
     "metadata": {},
     "output_type": "display_data"
    }
   ],
   "source": [
    "n = sec_df.shape[0]\n",
    "WEIGHT = 1 / n\n",
    "\n",
    "position = pd.DataFrame(data=[WEIGHT] * n, index=sec_df.index)\n",
    "\n",
    "port_xret_df = xret_df.dot(position).rename(columns={0:'port return'})\n",
    "display(port_xret_df)\n",
    "\n",
    "port_mean_xret = port_xret_df.mean() * SCALE\n",
    "port_mean_xret.name = 'port mean xret'\n",
    "display(port_mean_xret)\n",
    "\n",
    "port_vol = port_xret_df.std() * np.sqrt(SCALE)\n",
    "port_vol.name = 'port vol'\n",
    "display(port_vol)\n",
    "\n",
    "port_sharpe_ratio = port_mean_xret / port_vol\n",
    "port_sharpe_ratio.name = 'port sharpe ratio'\n",
    "display(port_sharpe_ratio)"
   ]
  },
  {
   "cell_type": "markdown",
   "id": "4540c6b8",
   "metadata": {},
   "source": [
    "## Without Exxon Mobil"
   ]
  },
  {
   "cell_type": "code",
   "execution_count": 39,
   "id": "1b6d9a12",
   "metadata": {},
   "outputs": [
    {
     "data": {
      "text/html": [
       "<div>\n",
       "<style scoped>\n",
       "    .dataframe tbody tr th:only-of-type {\n",
       "        vertical-align: middle;\n",
       "    }\n",
       "\n",
       "    .dataframe tbody tr th {\n",
       "        vertical-align: top;\n",
       "    }\n",
       "\n",
       "    .dataframe thead th {\n",
       "        text-align: right;\n",
       "    }\n",
       "</style>\n",
       "<table border=\"1\" class=\"dataframe\">\n",
       "  <thead>\n",
       "    <tr style=\"text-align: right;\">\n",
       "      <th></th>\n",
       "      <th>port return</th>\n",
       "    </tr>\n",
       "    <tr>\n",
       "      <th>date</th>\n",
       "      <th></th>\n",
       "    </tr>\n",
       "  </thead>\n",
       "  <tbody>\n",
       "    <tr>\n",
       "      <th>2015-01-09</th>\n",
       "      <td>-0.034397</td>\n",
       "    </tr>\n",
       "    <tr>\n",
       "      <th>2015-01-16</th>\n",
       "      <td>-0.033517</td>\n",
       "    </tr>\n",
       "    <tr>\n",
       "      <th>2015-01-23</th>\n",
       "      <td>0.048858</td>\n",
       "    </tr>\n",
       "    <tr>\n",
       "      <th>2015-01-30</th>\n",
       "      <td>-0.018863</td>\n",
       "    </tr>\n",
       "    <tr>\n",
       "      <th>2015-02-06</th>\n",
       "      <td>0.063990</td>\n",
       "    </tr>\n",
       "    <tr>\n",
       "      <th>...</th>\n",
       "      <td>...</td>\n",
       "    </tr>\n",
       "    <tr>\n",
       "      <th>2024-06-14</th>\n",
       "      <td>0.020324</td>\n",
       "    </tr>\n",
       "    <tr>\n",
       "      <th>2024-06-21</th>\n",
       "      <td>0.007002</td>\n",
       "    </tr>\n",
       "    <tr>\n",
       "      <th>2024-06-28</th>\n",
       "      <td>0.024451</td>\n",
       "    </tr>\n",
       "    <tr>\n",
       "      <th>2024-07-05</th>\n",
       "      <td>0.073430</td>\n",
       "    </tr>\n",
       "    <tr>\n",
       "      <th>2024-07-12</th>\n",
       "      <td>-0.017382</td>\n",
       "    </tr>\n",
       "  </tbody>\n",
       "</table>\n",
       "<p>497 rows × 1 columns</p>\n",
       "</div>"
      ],
      "text/plain": [
       "            port return\n",
       "date                   \n",
       "2015-01-09    -0.034397\n",
       "2015-01-16    -0.033517\n",
       "2015-01-23     0.048858\n",
       "2015-01-30    -0.018863\n",
       "2015-02-06     0.063990\n",
       "...                 ...\n",
       "2024-06-14     0.020324\n",
       "2024-06-21     0.007002\n",
       "2024-06-28     0.024451\n",
       "2024-07-05     0.073430\n",
       "2024-07-12    -0.017382\n",
       "\n",
       "[497 rows x 1 columns]"
      ]
     },
     "metadata": {},
     "output_type": "display_data"
    },
    {
     "data": {
      "text/plain": [
       "port return    0.367068\n",
       "Name: port mean xret, dtype: float64"
      ]
     },
     "metadata": {},
     "output_type": "display_data"
    },
    {
     "data": {
      "text/plain": [
       "port return    0.276539\n",
       "Name: port vol, dtype: float64"
      ]
     },
     "metadata": {},
     "output_type": "display_data"
    },
    {
     "data": {
      "text/plain": [
       "port return    1.327365\n",
       "Name: port sharpe ratio, dtype: float64"
      ]
     },
     "metadata": {},
     "output_type": "display_data"
    }
   ],
   "source": [
    "\n",
    "n = sec_df.shape[0] - 1\n",
    "WEIGHT = 1 / n\n",
    "\n",
    "xret_ex_xom_df = xret_df.drop('XOM', axis=1)\n",
    "position = pd.DataFrame(data=[WEIGHT] * n, index=sec_df.drop('XOM', axis=0).index)\n",
    "\n",
    "port_ex_xom_dly_xret_df = xret_ex_xom_df.dot(position).rename(columns={0:'port return'})\n",
    "display(port_ex_xom_dly_xret_df)\n",
    "\n",
    "port_mean_xret = port_ex_xom_dly_xret_df.mean() * SCALE\n",
    "port_mean_xret.name = 'port mean xret'\n",
    "display(port_mean_xret)\n",
    "\n",
    "port_vol = port_ex_xom_dly_xret_df.std() * np.sqrt(SCALE)\n",
    "port_vol.name = 'port vol'\n",
    "display(port_vol)\n",
    "\n",
    "port_sharpe_ratio = port_mean_xret / port_vol\n",
    "port_sharpe_ratio.name = 'port sharpe ratio'\n",
    "display(port_sharpe_ratio)"
   ]
  },
  {
   "cell_type": "markdown",
   "id": "a55549db",
   "metadata": {},
   "source": [
    "\n",
    "\n",
    "### 3.\n",
    "Use the data in `data/multi_asset_etf_data.xlsx`. Make scatter plots where in each plot the vertical axis displays mean return. The horizontal axis displays different measures of risk...\n",
    "* volatility\n",
    "* skewness\n",
    "* kurtosis\n",
    "* 5th quantile return\n",
    "* max drawdown\n",
    "\n",
    "Do any of these scatterplots show strong evidence of a relationship between risk and return?"
   ]
  },
  {
   "cell_type": "markdown",
   "id": "f7d7adf1",
   "metadata": {},
   "source": [
    "***"
   ]
  },
  {
   "cell_type": "code",
   "execution_count": 41,
   "id": "dfaf03e9",
   "metadata": {},
   "outputs": [],
   "source": [
    "SCALE = 12\n",
    "path  = '../data/multi_asset_etf_data.xlsx'\n",
    "\n",
    "etf_df = pd.read_excel(path, 'descriptions').set_index('ticker')\n",
    "xret_df = pd.read_excel(path, 'excess returns').set_index('Date')\n",
    "price_df = pd.read_excel(path, 'prices').set_index('Date')\n",
    "totret_df = pd.read_excel(path, 'total returns').set_index('Date')"
   ]
  },
  {
   "cell_type": "markdown",
   "id": "a6ce8d7b",
   "metadata": {},
   "source": [
    "# Calc extra data"
   ]
  },
  {
   "cell_type": "code",
   "execution_count": 57,
   "id": "464e54ae",
   "metadata": {},
   "outputs": [],
   "source": [
    "mean_xret = xret_df.mean() * SCALE\n",
    "vol = xret_df.std() * np.sqrt(SCALE)\n",
    "skewness = xret_df.skew()\n",
    "kurtosis = xret_df.kurt()\n",
    "\n",
    "# qunatile (Value at Risk)\n",
    "desired_quantile = 0.05\n",
    "VaR = xret_df.quantile(desired_quantile)\n",
    "\n",
    "# drawdown calc\n",
    "cum_ret_df = (xret_df + 1).cumprod()\n",
    "roll_max_df = cum_ret_df.cummax()\n",
    "drawdown_df = (cum_ret_df - roll_max_df) / roll_max_df\n",
    "max_drawdown = drawdown_df.min() # find the lowest number (aka negative)"
   ]
  },
  {
   "cell_type": "markdown",
   "id": "ae7a0a38",
   "metadata": {},
   "source": [
    "# Skewness"
   ]
  },
  {
   "cell_type": "code",
   "execution_count": 58,
   "id": "b3f27bf2",
   "metadata": {},
   "outputs": [
    {
     "data": {
      "text/plain": [
       "BWX   -0.122065\n",
       "DBC   -0.479875\n",
       "EEM    0.029281\n",
       "EFA   -0.136630\n",
       "HYG   -0.881594\n",
       "IEF   -0.082709\n",
       "IYR   -0.467615\n",
       "PSP   -0.668878\n",
       "QAI   -0.521906\n",
       "SPY   -0.419043\n",
       "TIP   -0.715399\n",
       "dtype: float64"
      ]
     },
     "metadata": {},
     "output_type": "display_data"
    }
   ],
   "source": [
    "display(skewness)"
   ]
  },
  {
   "cell_type": "markdown",
   "id": "faf3cf57",
   "metadata": {},
   "source": [
    "# Kurtosis"
   ]
  },
  {
   "cell_type": "code",
   "execution_count": 59,
   "id": "03942235",
   "metadata": {},
   "outputs": [
    {
     "data": {
      "text/plain": [
       "BWX    0.528365\n",
       "DBC    0.895638\n",
       "EEM    0.724814\n",
       "EFA    1.075567\n",
       "HYG    4.761644\n",
       "IEF    0.024228\n",
       "IYR    1.339263\n",
       "PSP    2.853289\n",
       "QAI    2.081320\n",
       "SPY    0.608037\n",
       "TIP    3.339881\n",
       "dtype: float64"
      ]
     },
     "metadata": {},
     "output_type": "display_data"
    }
   ],
   "source": [
    "display(kurtosis)"
   ]
  },
  {
   "cell_type": "markdown",
   "id": "4f126ea2",
   "metadata": {},
   "source": [
    "# VaR (Quantile Returns of the 5th percent)"
   ]
  },
  {
   "cell_type": "code",
   "execution_count": 60,
   "id": "e25d4f4e",
   "metadata": {},
   "outputs": [
    {
     "data": {
      "text/plain": [
       "BWX   -0.046106\n",
       "DBC   -0.071014\n",
       "EEM   -0.071528\n",
       "EFA   -0.067825\n",
       "HYG   -0.026179\n",
       "IEF   -0.035802\n",
       "IYR   -0.078222\n",
       "PSP   -0.087930\n",
       "QAI   -0.019439\n",
       "SPY   -0.071896\n",
       "TIP   -0.021560\n",
       "Name: 0.05, dtype: float64"
      ]
     },
     "metadata": {},
     "output_type": "display_data"
    }
   ],
   "source": [
    "display(VaR)"
   ]
  },
  {
   "cell_type": "markdown",
   "id": "0f8274e3",
   "metadata": {},
   "source": [
    "# Scatter Plots (Mean Ret vs. Risk Stat)\n",
    "* volatility\n",
    "* skewness\n",
    "* kurtosis\n",
    "* 5th quantile return\n",
    "* max drawdown"
   ]
  },
  {
   "cell_type": "code",
   "execution_count": null,
   "id": "5e23382b",
   "metadata": {},
   "outputs": [
    {
     "data": {
      "image/png": "[encoded data removed]",
      "text/plain": [
       "<Figure size 1500x1000 with 5 Axes>"
      ]
     },
     "metadata": {},
     "output_type": "display_data"
    }
   ],
   "source": [
    "import matplotlib.pyplot as plt\n",
    "\n",
    "fig, axes = plt.subplots(nrows=2, ncols=3, figsize=(15,10))\n",
    "risk_stats = [\n",
    "        ('Vol', vol),\n",
    "        ('Skew', skewness),\n",
    "        ('Kurtosis', kurtosis),\n",
    "        ('VaR', VaR),\n",
    "        ('Max Drawdown', max_drawdown)\n",
    "    ]\n",
    "\n",
    "for ax, (risk_stat, data) in zip(axes.flatten(), risk_stats):\n",
    "    ax.scatter(data, mean_xret)\n",
    "    ax.set_xlabel(risk_stat)\n",
    "    ax.set_ylabel('Mean XReturn')\n",
    "    ax.set_title(f'Mean XReturn vs {risk_stat}')\n",
    "\n",
    "fig.delaxes(axes.flatten()[-1])\n",
    "plt.tight_layout\n",
    "plt.show()"
   ]
  },
  {
   "cell_type": "markdown",
   "id": "c83d4f8f",
   "metadata": {},
   "source": [
    "# Answer"
   ]
  },
  {
   "cell_type": "markdown",
   "id": "fc41520c",
   "metadata": {},
   "source": [
    "1. Mean Xret with Vol\n",
    "-  In this basket of securities the more volatile securities have higher excess returns. But this doesnt generalize for all securities (we can find cases like penny stocks hat do not follow this rule)\n",
    "\n",
    "2. Mean Xret with Skewness\n",
    "- No relationship. It looks like a random scatter plot\n",
    "\n",
    "3. Mean Xret with Kurtosis\n",
    "- No Relationship. It looks like a random scatter plot\n",
    "\n",
    "4. Mean Xret with VaR\n",
    "- As the VaR increases (gets less negative), the mean excess return also decreases in this basket of securities. Because we observed that the higher excess returns have higher volatilities, it would make sense that their worst performances are more extreme.\n",
    "\n",
    "5. Mean Xret with Max Drawdown\n",
    "- No Relationship. It looks like a random scatter plot"
   ]
  }
 ],
 "metadata": {
  "hide_input": false,
  "kernelspec": {
   "display_name": "quant",
   "language": "python",
   "name": "python3"
  },
  "language_info": {
   "codemirror_mode": {
    "name": "ipython",
    "version": 3
   },
   "file_extension": ".py",
   "mimetype": "text/x-python",
   "name": "python",
   "nbconvert_exporter": "python",
   "pygments_lexer": "ipython3",
   "version": "3.11.9"
  }
 },
 "nbformat": 4,
 "nbformat_minor": 5
}
