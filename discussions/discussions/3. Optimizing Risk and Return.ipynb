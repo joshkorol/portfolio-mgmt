{
 "cells": [
  {
   "cell_type": "markdown",
   "id": "b711fd96",
   "metadata": {},
   "source": [
    "# Optimizing Risk and Return\n",
    "\n",
    "## Portfolio Management\n",
    "### MLP Training\n",
    "\n",
    "#### January 2025\n",
    "\n",
    "Questions?\n",
    "* Contact: Mark Hendricks\n",
    "* hendricks@uchicago.edu"
   ]
  },
  {
   "cell_type": "markdown",
   "id": "a39b7bb6",
   "metadata": {},
   "source": [
    "$$\\newcommand{\\E}{E}$$\n",
    "$$\\newcommand{\\rbar}{\\bar{r}}$$\n",
    "$$\\newcommand{\\rvec}{\\boldsymbol{r}}$$\n",
    "$$\\newcommand{\\rvecbar}{\\boldsymbol{\\bar{r}}}$$\n",
    "\n",
    "$$\\newcommand{\\Ntime}{N}$$\n",
    "$$\\newcommand{\\Nt}{N}$$\n",
    "\n",
    "$$\\newcommand{\\rmat}{\\boldsymbol{R}}$$\n",
    "\n",
    "$$\\newcommand{\\riskmeasure}{\\varrho}$$\n",
    "\n",
    "$$\\newcommand{\\wt}{w}$$\n",
    "\n",
    "$$\\newcommand{\\Nassets}{K}$$\n",
    "\n",
    "$$\\newcommand{\\muvec}{\\boldsymbol{\\mu}}$$\n",
    "\n",
    "$$\\newcommand{\\onevecNt}{\\boldsymbol{1}_{\\Ntime\\times 1}}$$\n",
    "\n",
    "$$\\newcommand{\\covest}{\\hat{\\boldsymbol{\\Sigma}}}$$\n",
    "\n",
    "$$\\newcommand{\\meanest}{\\hat{\\mu}}$$\n",
    "\n",
    "$$\\newcommand{\\meanestvec}{\\hat{\\boldsymbol{\\mu}}}$$\n",
    "\n",
    "$$\\newcommand{\\covmat}{\\boldsymbol{\\Sigma}}$$\n",
    "\n",
    "$$\\newcommand{\\rf}{r_f}$$\n",
    "\n",
    "$$\\newcommand{\\VaR}{\\text{VaR}}$$\n",
    "$$\\newcommand{\\VaRqtau}{\\VaR_{q,\\tau}}$$\n",
    "$$\\newcommand{\\pnlVaR}{\\pnl^{\\VaR}}$$\n",
    "$$\\newcommand{\\pnlVaRqtau}{\\pnl^{\\VaR_{q,\\tau}}}$$\n",
    "$$\\newcommand{\\rVaR}{r^{\\VaR}}$$\n",
    "$$\\newcommand{\\rVaRqtau}{r^{\\VaR_{q,\\tau}}}$$\n",
    "$$\\newcommand{\\loss}{L}$$\n",
    "\n",
    "$$\\newcommand{\\Pr}{\\mathbb{P}}$$\n",
    "\n",
    "$$\\newcommand{\\quant}{q}$$\n",
    "$$\\newcommand{\\port}{\\Pi}$$\n",
    "$$\\newcommand{\\pnl}{\\Gamma}$$\n",
    "\n",
    "$$\\newcommand{\\cdf}{\\Phi}$$\n",
    "$$\\newcommand{\\pdf}{\\phi}$$\n",
    "\n",
    "$$\\newcommand{\\zscore}{\\texttt{z}}$$\n",
    "\n",
    "$$\\newcommand{\\cdfz}{\\cdf_{\\zscore}}$$\n",
    "$$\\newcommand{\\pdfz}{\\pdf_{\\zscore}}$$\n",
    "\n",
    "$$\\newcommand{\\rlog}{\\texttt{r}}$$\n",
    "\n",
    "$$\\newcommand{CVaR}{\\text{CVaR}}$$\n",
    "$$\\newcommand{CVaRqtau}{\\CVaR_{q,\\tau}}$$\n",
    "$$\\newcommand{\\pnlCVaR}{\\pnl^\\CVaR}$$\n",
    "$$\\newcommand{\\pnlCVaRqtau}{\\pnl^{\\CVaR_{q,\\tau}}}$$\n",
    "$$\\newcommand{\\rCVaR}{r^\\CVaR}$$\n",
    "$$\\newcommand{\\rCVaRqtau}{r^{\\CVaR_{q,\\tau}}}$$\n",
    "\n",
    "$$\\newcommand{\\rx}{\\tilde{r}}$$\n",
    "\n",
    "$$\\newcommand{\\mux}{\\tilde{\\mu}}$$\n",
    "\n",
    "$$\\newcommand{\\sigx}{\\tilde{\\sigma}}$$\n",
    "\n",
    "$$\\newcommand{\\Nsec}{K}$$\n",
    "\n",
    "$$\\newcommand{\\avg}{\\text{avg}}$$\n",
    "\n",
    "$$\\newcommand{\\wtvec}{\\boldsymbol{\\wt}}$$\n",
    "\n",
    "$$\\newcommand{\\muxvec}{\\boldsymbol{\\mux}}$$\n",
    "\n",
    "$$\\newcommand{\\tan}{\\text{tan}}$$"
   ]
  },
  {
   "cell_type": "markdown",
   "id": "b5226717",
   "metadata": {},
   "source": [
    "# Diversification"
   ]
  },
  {
   "cell_type": "markdown",
   "id": "7ca28d4d",
   "metadata": {},
   "source": [
    "## Subadditivity"
   ]
  },
  {
   "cell_type": "markdown",
   "id": "4c008e46",
   "metadata": {},
   "source": [
    "## Variance of a Portfolio\n",
    "\n",
    "Consider a portfolio of $\\Nsec$ risky securities.\n",
    "* return volatility is $\\sigma_i$\n",
    "* return covariance is $\\sigma_{i,j}$\n",
    "* weight in security $i$ is given by $\\wt_i$, with $$\\sum_{i=1}^\\Nsec \\wt_i = 1$$\n",
    "\n",
    "Then\n",
    "\n",
    "$$\\sigma^2_p = \\sum_{j=1}^\\Nsec\\sum_{i=1}^\\Nsec\\wt_i\\wt_j\\sigma_{ij}$$\n",
    "\n",
    "Suppose we have an equally-weighted portfolio, $w_i=\\frac{1}{\\Nsec}$ for all $i$.\n",
    "\n",
    "Then it is easy to shwo that\n",
    "\n",
    "$$\\sigma^2_p = \\frac{1}{\\Nsec}\\avg\\left[\\sigma^2_i\\right] + \\frac{\\Nsec-1}{\\Nsec}\\avg\\left[\\sigma_{ij}\\right]$$\n",
    "\n",
    "As the portfolio increases the number of securities, $\\Nsec\\to\\infty$, we have\n",
    "\n",
    "$$\\sigma^2_p = \\avg\\left[\\sigma_{ij}\\right]$$\n",
    "\n",
    "#### Individual variances do not have much impact on portfolio variance!"
   ]
  },
  {
   "cell_type": "markdown",
   "id": "b314d1d8",
   "metadata": {},
   "source": [
    "### Technical Points\n",
    "\n",
    "#### Equal weights?\n",
    "A similar result would hold even if we didn't assume equal weights, so long as no single weight held a large share in the portfolio.\n",
    "\n",
    "#### Simplified formula\n",
    "\n",
    "For pedagogy, assume all $\\Nsec$ volatilites are equal and that all pairwise correlations are $\\rho$. Then we would have\n",
    "\n",
    "$$\\sigma^2_p = \\frac{1}{\\Nsec}\\sigma^2 + \\frac{\\Nsec-1}{\\Nsec}\\rho\\sigma^2$$\n",
    "\n",
    "which makes the point that as $\\Nsec$ grows, the portfolio variance is a fraction of the common variance, where the fraction is given by $\\rho$. \n",
    "\n",
    "This illustrates the idea of the total risk $\\sigma^2$ having two components\n",
    "* systematic, $\\rho\\sigma^2$\n",
    "* idiosyncratic \n",
    "\n",
    "In more general settings, we see a similar phenomenon, that total risk decreases due to the subadditivity."
   ]
  },
  {
   "cell_type": "markdown",
   "id": "2f4632ec",
   "metadata": {},
   "source": [
    "### Stand-alone vs Marginal Risk\n",
    "\n",
    "More broadly, the risk measure of a single asset (standalone risk) is very different from its contribution of risk to a portfolio.\n",
    "\n",
    "We saw this above for variance, but it is true for any subadditive risk measure.\n",
    "\n",
    "Consider **normal VaR**, (recalling that general VaR is not subadditive.)\n",
    "\n",
    "#### Normal Value-at-risk\n",
    "\n",
    "$$\\frac{\\partial \\rVaRqtau}{\\partial\\wt_i} = \\mu_i + \\zscore_\\quant\\frac{1}{\\sigma_p}\\sum_{j=1}^\\Nsec\\wt_j\\sigma_{i,j}$$\n",
    "\n",
    "That is, the **marginal VaR** to portfolio $p$ with $\\Nsec$ assets is a function of the covariances, not its own volatility.\n",
    "\n",
    "Thus, marginal (normal) VaR is quite different from standalone (normal VaR)."
   ]
  },
  {
   "cell_type": "markdown",
   "id": "66943f32",
   "metadata": {},
   "source": [
    "## Mean Additivity\n",
    "\n",
    "We have discussed **subadditivity** and diversification for risk. What about for mean return (reward)?\n",
    "\n",
    "The **mean is a linear function**!\n",
    "* Thus, it is additive, not subadditive.\n",
    "\n",
    "$$\\mu_p = \\boldsymbol{\\wt}'\\boldsymbol{\\mu}$$\n",
    "\n",
    "With means, the \"whole\" is exactly equal to the \"sum of its parts.\"\n",
    "\n",
    "#### Thus, diversification reduces risk while leaving mean return intact!\n",
    "* This is the reason that diversification is seen as a free lunch."
   ]
  },
  {
   "cell_type": "markdown",
   "id": "244aac4c",
   "metadata": {},
   "source": [
    "### Example: Mean vs Volatility for Two Assets\n",
    "\n",
    "Reference: Hendricks\n",
    "\n",
    "<img src=\"../refs/mlp1/bivariate-risk-return-diversification.png\" width=\"750\"/>"
   ]
  },
  {
   "cell_type": "markdown",
   "id": "c6034b56",
   "metadata": {},
   "source": [
    "# Mean-Variance Optimization"
   ]
  },
  {
   "cell_type": "markdown",
   "id": "cdea2f54",
   "metadata": {},
   "source": [
    "For two assets, we saw diversification means\n",
    "* subadditive risk\n",
    "* additive mean\n",
    "\n",
    "This holds for a portfolio of $\\Nsec$ risky securities.\n",
    "\n",
    "Consider the **mean variance optimization**. Equivalently,\n",
    "* mean-volatility optimization\n",
    "* Sharpe Ratio optimization"
   ]
  },
  {
   "cell_type": "markdown",
   "id": "c1f9cfde",
   "metadata": {},
   "source": [
    "## Figures on the Diversification\n",
    "\n",
    "Reference: Hendricks\n",
    "\n",
    "<img src=\"../refs/mlp1/diversification_parabola.png\" width=\"500\"/>"
   ]
  },
  {
   "cell_type": "markdown",
   "id": "48fffd26",
   "metadata": {},
   "source": [
    "<img src=\"../refs/mlp1/diversification_hyperbola.png\" width=\"500\"/>"
   ]
  },
  {
   "cell_type": "markdown",
   "id": "39a5f7be",
   "metadata": {},
   "source": [
    "## Preliminaries\n",
    "\n",
    "Consider a problem of\n",
    "* $\\Nsec$ risky assets\n",
    "* cash (or some other risk-free asset)\n",
    "* frictionless markets--long short any amount\n",
    "* weights on risky assets do not need to equal 1, as cash can be long/short\n",
    "$$\\wtvec'\\boldsymbol{1} \\ne 1$$\n",
    "\n",
    "We will consider **excess returns**\n",
    "* makes the math a little simpler\n",
    "* good assumption if we have ability to leverage with cash\n",
    "\n",
    "Recall that covariance\n",
    "* matrix of $\\Nsec$ securities is $\\covmat$\n",
    "* of the total chosen portfolio is \n",
    "$$\\sigma^2_p = \\wtvec'\\covmat\\wtvec$$"
   ]
  },
  {
   "cell_type": "markdown",
   "id": "27dae6fc",
   "metadata": {},
   "source": [
    "## Optimization\n",
    "\n",
    "### Objective\n",
    "\n",
    "The objective is to **minimize portfolio variance**.\n",
    "\n",
    "$$\\min_{\\wtvec} \\wtvec'\\covmat\\wtvec$$\n",
    "\n",
    "### The Constraint\n",
    "\n",
    "The constraint is to achieve a mean return target:\n",
    "\n",
    "$$\\text{s.t.}\\; \\wtvec'\\muxvec = m$$\n",
    "\n",
    "#### Note\n",
    "We have not added constraints on...\n",
    "* sum of weights\n",
    "* short positions\n",
    "* individual position sizes\n",
    "\n",
    "### Duality\n",
    "\n",
    "This optimization is of a special type such that its **dual** would give the same solution set. Namely,\n",
    "* Objective: maximize return\n",
    "* Constraint: achieve a set variance\n",
    "\n",
    "#### Technical Point\n",
    "\n",
    "This is a **linear program**."
   ]
  },
  {
   "cell_type": "markdown",
   "id": "787eb9b1",
   "metadata": {},
   "source": [
    "### Setting up the Problem\n",
    "A mean-variance portfolio is a vector, $\\wtvec^*$ which solves the following **constrained optimization** for some mean excess return target $m$.\n",
    "\n",
    "$$\\min_{\\wtvec} \\wtvec'\\covmat\\wtvec$$\n",
    "\n",
    "$$\\text{s.t.}\\; \\wtvec'\\muxvec = m$$"
   ]
  },
  {
   "cell_type": "markdown",
   "id": "140247b2",
   "metadata": {},
   "source": [
    "### What makes for an easy optimization\n",
    "\n",
    "Optimizations are often intractable.\n",
    "\n",
    "This optimization is easy.\n",
    "\n",
    "Why?\n",
    "\n",
    "#### Technical Point:\n",
    "Given the simplicity of this optimization, we can solve it analytically, with an explicit solution:\n",
    "1. Set up the Lagrangian with just one constraint.\n",
    "2. The FOC is sufficient given the convexity of the problem.\n",
    "3. Finally, substitute the Lagrange multiplier using the constraint."
   ]
  },
  {
   "cell_type": "markdown",
   "id": "c9cffc22",
   "metadata": {},
   "source": [
    "## The solution\n",
    "\n",
    "$$\\wtvec^* = \\covmat^{-1}\\muxvec\\, \\delta_m$$\n",
    "\n",
    "where $\\delta_m$ is simply a scaling constant to ensure we hit the mean of $m$."
   ]
  },
  {
   "cell_type": "markdown",
   "id": "79355ba8",
   "metadata": {},
   "source": [
    "### Note that\n",
    "\n",
    "* All solutions are just a rescaling of $\\covmat^{-1}\\muxvec$\n",
    "\n",
    "In fact, there is a name for this baseline: **the tangency portfolio**.\n",
    "\n",
    "$$\\wtvec^{\\tan} = \\delta_\\tan\\, \\covmat^{-1}\\muxvec$$\n",
    "\n",
    "where $\\delta_\\tan$ is a number that ensures $\\wtvec^{\\tan}$ sums to one.\n",
    "* We are not insisting all solutions add to one. But it is useful to highlight this special solution that does add to one."
   ]
  },
  {
   "cell_type": "markdown",
   "id": "7933ad60",
   "metadata": {},
   "source": [
    "#### Technical Point\n",
    "\n",
    "The forumulas for the scalings look tedious but are easy to calculate."
   ]
  },
  {
   "cell_type": "markdown",
   "id": "2ab2ca76",
   "metadata": {},
   "source": [
    "<img src=\"../refs/mlp1/mv_excess.png\" width=\"750\"/>"
   ]
  },
  {
   "cell_type": "markdown",
   "id": "2ce714b9",
   "metadata": {},
   "source": [
    "### Two Fund Separation\n",
    "This is known as two-fund separation.\n",
    "* Every investor should invest (long or short) cash and (long or short) the **tangency portfolio**.\n",
    "* Variation in investor risk will lead to different solutions, but even with $\\Nsec$ assets, everyone holds the exact same bundle, (the tangency portfolio,) in different sizes."
   ]
  },
  {
   "cell_type": "markdown",
   "id": "c121e636",
   "metadata": {},
   "source": [
    "# Additional Constraints"
   ]
  },
  {
   "cell_type": "markdown",
   "id": "86b69e23",
   "metadata": {},
   "source": [
    "## No cash (weights add to one)\n",
    "\n",
    "We could optimize the space of total (not excess) returns for a situatoin where there is no cash asset.\n",
    "\n",
    "Then, the weights need to add to one.\n",
    "\n",
    "This would introduce a second constraint to the optimization above:\n",
    "\n",
    "$$\\wtvec'\\boldsymbol{1} = 1$$\n",
    "\n",
    "* Still an easy optimization.\n",
    "* Adds a second dimension to the solution.\n",
    "* Thus, all investors hold a mix of two risky bundles (tangency and minimum variance) instead of tangency and cash.\n",
    "\n",
    "One could see this solution as deriving \"synthetic\" cash (to the best of its ability) and then getting back to an anologous solution."
   ]
  },
  {
   "cell_type": "markdown",
   "id": "bc4f74c8",
   "metadata": {},
   "source": [
    "<img src=\"../refs/mlp1/mv_totalrets.png\" width=\"750\"/>"
   ]
  },
  {
   "cell_type": "markdown",
   "id": "4f3ff85e",
   "metadata": {},
   "source": [
    "## Position Constraints\n",
    "\n",
    "We may wish to constrain individual security weights, $\\wt_i$.\n",
    "* No short positions, $\\wt_i\\ge 0$\n",
    "* Mandate to hold at least/most, $\\wt_i\\ge c$, $\\wt_j\\le c$.\n",
    "\n",
    "These constraints will cause us to lose an explicit solution formula.\n",
    "* Why?\n",
    "\n",
    "Still, the optimization problem is easy numerically.\n",
    "* Why?\n",
    "\n",
    "See the other notebook for an illustration of these constraints."
   ]
  },
  {
   "cell_type": "markdown",
   "id": "5e6c46e6",
   "metadata": {},
   "source": [
    "# Beyond Variance"
   ]
  },
  {
   "cell_type": "markdown",
   "id": "90ccabb3",
   "metadata": {},
   "source": [
    "These optimizations have been mean-variance.\n",
    "\n",
    "We have discussed that there are many other risk measures we may want to consider.\n",
    "\n",
    "What would be needed to optimize...\n",
    "* mean-volatility\n",
    "* mean-Normal VaR\n",
    "* information ratio\n",
    "* mean-to-VaR\n",
    "* mean-to-CVaR"
   ]
  },
  {
   "cell_type": "markdown",
   "id": "2cc1686a",
   "metadata": {},
   "source": [
    "# Appendix"
   ]
  },
  {
   "cell_type": "markdown",
   "id": "658abef0",
   "metadata": {},
   "source": [
    "## One Weird Trick Your Statistician Will HATE\n",
    "\n",
    "Mean-variance optimization is actually a linear regression!\n",
    "* Look back at the formula for the tangency weights\n",
    "* $\\covmat$ is like $X'X$\n",
    "* $\\muxvec$ is like $X'\\boldsymbol{1}$\n",
    "\n",
    "Takes some tedious algebra, but can be shown that the tangency weights, (solving the MV problem) are obtained by the following, (weird!) regression:\n",
    "\n",
    "$$1 = \\boldsymbol{\\beta}\\boldsymbol{\\rx}_t + \\epsilon_t$$\n",
    "\n",
    "Why do we care? The MV formula is easy to compute?\n",
    "\n",
    "We can apply the many techniques and tricks of regression to portfolio optimization."
   ]
  }
 ],
 "metadata": {
  "hide_input": true,
  "kernelspec": {
   "display_name": "Python 3 (ipykernel)",
   "language": "python",
   "name": "python3"
  },
  "language_info": {
   "codemirror_mode": {
    "name": "ipython",
    "version": 3
   },
   "file_extension": ".py",
   "mimetype": "text/x-python",
   "name": "python",
   "nbconvert_exporter": "python",
   "pygments_lexer": "ipython3",
   "version": "3.9.6"
  }
 },
 "nbformat": 4,
 "nbformat_minor": 5
}
